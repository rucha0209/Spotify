{
  "nbformat": 4,
  "nbformat_minor": 0,
  "metadata": {
    "kernelspec": {
      "display_name": "Python 3",
      "language": "python",
      "name": "python3"
    },
    "language_info": {
      "codemirror_mode": {
        "name": "ipython",
        "version": 3
      },
      "file_extension": ".py",
      "mimetype": "text/x-python",
      "name": "python",
      "nbconvert_exporter": "python",
      "pygments_lexer": "ipython3",
      "version": "3.7.4"
    },
    "colab": {
      "name": "Final project-group-25.ipynb",
      "provenance": [],
      "collapsed_sections": [
        "TKSVUTDkiOLa",
        "oC7CYfnJiOLh",
        "Luc6p3bhiOLl",
        "AHTp1ByTiOLp",
        "ecn7BT9_iOLt",
        "KR-n5VCYiOLy"
      ]
    }
  },
  "cells": [
    {
      "cell_type": "markdown",
      "metadata": {
        "id": "8iFzL02HiOKs"
      },
      "source": [
        "## Spotify Data\n"
      ]
    },
    {
      "cell_type": "code",
      "metadata": {
        "id": "VHYxhyPliOK0"
      },
      "source": [
        "#Importing libraries\n",
        "import pandas as pd\n",
        "import numpy as np\n",
        "import warnings\n",
        "warnings.filterwarnings(\"ignore\")\n",
        "import matplotlib.pyplot as plt\n",
        "import seaborn as sn"
      ],
      "execution_count": null,
      "outputs": []
    },
    {
      "cell_type": "code",
      "metadata": {
        "id": "YyyfNk8YiOK3"
      },
      "source": [
        "#import data\n",
        "df=pd.read_csv('spotify_churning.csv') "
      ],
      "execution_count": null,
      "outputs": []
    },
    {
      "cell_type": "code",
      "metadata": {
        "scrolled": true,
        "id": "ekmXZ6kriOK4",
        "outputId": "23922dc9-bae5-4cc1-ffed-ab0be7586dbe"
      },
      "source": [
        "df"
      ],
      "execution_count": null,
      "outputs": [
        {
          "output_type": "execute_result",
          "data": {
            "text/html": [
              "<div>\n",
              "<style scoped>\n",
              "    .dataframe tbody tr th:only-of-type {\n",
              "        vertical-align: middle;\n",
              "    }\n",
              "\n",
              "    .dataframe tbody tr th {\n",
              "        vertical-align: top;\n",
              "    }\n",
              "\n",
              "    .dataframe thead th {\n",
              "        text-align: right;\n",
              "    }\n",
              "</style>\n",
              "<table border=\"1\" class=\"dataframe\">\n",
              "  <thead>\n",
              "    <tr style=\"text-align: right;\">\n",
              "      <th></th>\n",
              "      <th>Unnamed: 0</th>\n",
              "      <th>Unnamed: 0.1</th>\n",
              "      <th>ts</th>\n",
              "      <th>userId</th>\n",
              "      <th>sessionId</th>\n",
              "      <th>page</th>\n",
              "      <th>auth</th>\n",
              "      <th>method</th>\n",
              "      <th>status</th>\n",
              "      <th>level</th>\n",
              "      <th>...</th>\n",
              "      <th>artist</th>\n",
              "      <th>song</th>\n",
              "      <th>length</th>\n",
              "      <th>Datetime</th>\n",
              "      <th>Hour</th>\n",
              "      <th>Day</th>\n",
              "      <th>Month</th>\n",
              "      <th>Year</th>\n",
              "      <th>Date</th>\n",
              "      <th>Time</th>\n",
              "    </tr>\n",
              "  </thead>\n",
              "  <tbody>\n",
              "    <tr>\n",
              "      <td>0</td>\n",
              "      <td>0</td>\n",
              "      <td>0</td>\n",
              "      <td>1538352117</td>\n",
              "      <td>30</td>\n",
              "      <td>29</td>\n",
              "      <td>NextSong</td>\n",
              "      <td>Logged In</td>\n",
              "      <td>PUT</td>\n",
              "      <td>200</td>\n",
              "      <td>paid</td>\n",
              "      <td>...</td>\n",
              "      <td>Martha Tilston</td>\n",
              "      <td>Rockpools</td>\n",
              "      <td>277.89016</td>\n",
              "      <td>2018-10-01 00:01:57</td>\n",
              "      <td>0</td>\n",
              "      <td>1</td>\n",
              "      <td>10</td>\n",
              "      <td>2018</td>\n",
              "      <td>2018-10-01</td>\n",
              "      <td>00:01:57</td>\n",
              "    </tr>\n",
              "    <tr>\n",
              "      <td>1</td>\n",
              "      <td>1</td>\n",
              "      <td>1</td>\n",
              "      <td>1538352180</td>\n",
              "      <td>9</td>\n",
              "      <td>8</td>\n",
              "      <td>NextSong</td>\n",
              "      <td>Logged In</td>\n",
              "      <td>PUT</td>\n",
              "      <td>200</td>\n",
              "      <td>free</td>\n",
              "      <td>...</td>\n",
              "      <td>Five Iron Frenzy</td>\n",
              "      <td>Canada</td>\n",
              "      <td>236.09424</td>\n",
              "      <td>2018-10-01 00:03:00</td>\n",
              "      <td>0</td>\n",
              "      <td>1</td>\n",
              "      <td>10</td>\n",
              "      <td>2018</td>\n",
              "      <td>2018-10-01</td>\n",
              "      <td>00:03:00</td>\n",
              "    </tr>\n",
              "    <tr>\n",
              "      <td>2</td>\n",
              "      <td>2</td>\n",
              "      <td>2</td>\n",
              "      <td>1538352394</td>\n",
              "      <td>30</td>\n",
              "      <td>29</td>\n",
              "      <td>NextSong</td>\n",
              "      <td>Logged In</td>\n",
              "      <td>PUT</td>\n",
              "      <td>200</td>\n",
              "      <td>paid</td>\n",
              "      <td>...</td>\n",
              "      <td>Adam Lambert</td>\n",
              "      <td>Time For Miracles</td>\n",
              "      <td>282.82730</td>\n",
              "      <td>2018-10-01 00:06:34</td>\n",
              "      <td>0</td>\n",
              "      <td>1</td>\n",
              "      <td>10</td>\n",
              "      <td>2018</td>\n",
              "      <td>2018-10-01</td>\n",
              "      <td>00:06:34</td>\n",
              "    </tr>\n",
              "    <tr>\n",
              "      <td>3</td>\n",
              "      <td>3</td>\n",
              "      <td>3</td>\n",
              "      <td>1538352416</td>\n",
              "      <td>9</td>\n",
              "      <td>8</td>\n",
              "      <td>NextSong</td>\n",
              "      <td>Logged In</td>\n",
              "      <td>PUT</td>\n",
              "      <td>200</td>\n",
              "      <td>free</td>\n",
              "      <td>...</td>\n",
              "      <td>Enigma</td>\n",
              "      <td>Knocking On Forbidden Doors</td>\n",
              "      <td>262.71302</td>\n",
              "      <td>2018-10-01 00:06:56</td>\n",
              "      <td>0</td>\n",
              "      <td>1</td>\n",
              "      <td>10</td>\n",
              "      <td>2018</td>\n",
              "      <td>2018-10-01</td>\n",
              "      <td>00:06:56</td>\n",
              "    </tr>\n",
              "    <tr>\n",
              "      <td>4</td>\n",
              "      <td>4</td>\n",
              "      <td>4</td>\n",
              "      <td>1538352676</td>\n",
              "      <td>30</td>\n",
              "      <td>29</td>\n",
              "      <td>NextSong</td>\n",
              "      <td>Logged In</td>\n",
              "      <td>PUT</td>\n",
              "      <td>200</td>\n",
              "      <td>paid</td>\n",
              "      <td>...</td>\n",
              "      <td>Daft Punk</td>\n",
              "      <td>Harder Better Faster Stronger</td>\n",
              "      <td>223.60771</td>\n",
              "      <td>2018-10-01 00:11:16</td>\n",
              "      <td>0</td>\n",
              "      <td>1</td>\n",
              "      <td>10</td>\n",
              "      <td>2018</td>\n",
              "      <td>2018-10-01</td>\n",
              "      <td>00:11:16</td>\n",
              "    </tr>\n",
              "    <tr>\n",
              "      <td>...</td>\n",
              "      <td>...</td>\n",
              "      <td>...</td>\n",
              "      <td>...</td>\n",
              "      <td>...</td>\n",
              "      <td>...</td>\n",
              "      <td>...</td>\n",
              "      <td>...</td>\n",
              "      <td>...</td>\n",
              "      <td>...</td>\n",
              "      <td>...</td>\n",
              "      <td>...</td>\n",
              "      <td>...</td>\n",
              "      <td>...</td>\n",
              "      <td>...</td>\n",
              "      <td>...</td>\n",
              "      <td>...</td>\n",
              "      <td>...</td>\n",
              "      <td>...</td>\n",
              "      <td>...</td>\n",
              "      <td>...</td>\n",
              "      <td>...</td>\n",
              "    </tr>\n",
              "    <tr>\n",
              "      <td>286495</td>\n",
              "      <td>286495</td>\n",
              "      <td>286495</td>\n",
              "      <td>1543622240</td>\n",
              "      <td>300011</td>\n",
              "      <td>500</td>\n",
              "      <td>Home</td>\n",
              "      <td>Logged Out</td>\n",
              "      <td>GET</td>\n",
              "      <td>200</td>\n",
              "      <td>paid</td>\n",
              "      <td>...</td>\n",
              "      <td>Iron Maiden</td>\n",
              "      <td>Murders In The Rue Morgue (1998 Digital Remaster)</td>\n",
              "      <td>258.66404</td>\n",
              "      <td>2018-11-30 23:57:20</td>\n",
              "      <td>23</td>\n",
              "      <td>30</td>\n",
              "      <td>11</td>\n",
              "      <td>2018</td>\n",
              "      <td>2018-11-30</td>\n",
              "      <td>23:57:20</td>\n",
              "    </tr>\n",
              "    <tr>\n",
              "      <td>286496</td>\n",
              "      <td>286496</td>\n",
              "      <td>286496</td>\n",
              "      <td>1543622241</td>\n",
              "      <td>300011</td>\n",
              "      <td>500</td>\n",
              "      <td>Login</td>\n",
              "      <td>Logged Out</td>\n",
              "      <td>PUT</td>\n",
              "      <td>307</td>\n",
              "      <td>paid</td>\n",
              "      <td>...</td>\n",
              "      <td>Iron Maiden</td>\n",
              "      <td>Murders In The Rue Morgue (1998 Digital Remaster)</td>\n",
              "      <td>258.66404</td>\n",
              "      <td>2018-11-30 23:57:21</td>\n",
              "      <td>23</td>\n",
              "      <td>30</td>\n",
              "      <td>11</td>\n",
              "      <td>2018</td>\n",
              "      <td>2018-11-30</td>\n",
              "      <td>23:57:21</td>\n",
              "    </tr>\n",
              "    <tr>\n",
              "      <td>286497</td>\n",
              "      <td>286497</td>\n",
              "      <td>286497</td>\n",
              "      <td>1543622248</td>\n",
              "      <td>300011</td>\n",
              "      <td>500</td>\n",
              "      <td>Home</td>\n",
              "      <td>Logged In</td>\n",
              "      <td>GET</td>\n",
              "      <td>200</td>\n",
              "      <td>paid</td>\n",
              "      <td>...</td>\n",
              "      <td>Iron Maiden</td>\n",
              "      <td>Murders In The Rue Morgue (1998 Digital Remaster)</td>\n",
              "      <td>258.66404</td>\n",
              "      <td>2018-11-30 23:57:28</td>\n",
              "      <td>23</td>\n",
              "      <td>30</td>\n",
              "      <td>11</td>\n",
              "      <td>2018</td>\n",
              "      <td>2018-11-30</td>\n",
              "      <td>23:57:28</td>\n",
              "    </tr>\n",
              "    <tr>\n",
              "      <td>286498</td>\n",
              "      <td>286498</td>\n",
              "      <td>286498</td>\n",
              "      <td>1543622398</td>\n",
              "      <td>300011</td>\n",
              "      <td>500</td>\n",
              "      <td>About</td>\n",
              "      <td>Logged In</td>\n",
              "      <td>GET</td>\n",
              "      <td>200</td>\n",
              "      <td>paid</td>\n",
              "      <td>...</td>\n",
              "      <td>Iron Maiden</td>\n",
              "      <td>Murders In The Rue Morgue (1998 Digital Remaster)</td>\n",
              "      <td>258.66404</td>\n",
              "      <td>2018-11-30 23:59:58</td>\n",
              "      <td>23</td>\n",
              "      <td>30</td>\n",
              "      <td>11</td>\n",
              "      <td>2018</td>\n",
              "      <td>2018-11-30</td>\n",
              "      <td>23:59:58</td>\n",
              "    </tr>\n",
              "    <tr>\n",
              "      <td>286499</td>\n",
              "      <td>286499</td>\n",
              "      <td>286499</td>\n",
              "      <td>1543622411</td>\n",
              "      <td>300011</td>\n",
              "      <td>500</td>\n",
              "      <td>NextSong</td>\n",
              "      <td>Logged In</td>\n",
              "      <td>PUT</td>\n",
              "      <td>200</td>\n",
              "      <td>paid</td>\n",
              "      <td>...</td>\n",
              "      <td>Camera Obscura</td>\n",
              "      <td>The Sun On His Back</td>\n",
              "      <td>170.89261</td>\n",
              "      <td>2018-12-01 00:00:11</td>\n",
              "      <td>0</td>\n",
              "      <td>1</td>\n",
              "      <td>12</td>\n",
              "      <td>2018</td>\n",
              "      <td>2018-12-01</td>\n",
              "      <td>00:00:11</td>\n",
              "    </tr>\n",
              "  </tbody>\n",
              "</table>\n",
              "<p>286500 rows × 27 columns</p>\n",
              "</div>"
            ],
            "text/plain": [
              "        Unnamed: 0  Unnamed: 0.1          ts  userId  sessionId      page  \\\n",
              "0                0             0  1538352117      30         29  NextSong   \n",
              "1                1             1  1538352180       9          8  NextSong   \n",
              "2                2             2  1538352394      30         29  NextSong   \n",
              "3                3             3  1538352416       9          8  NextSong   \n",
              "4                4             4  1538352676      30         29  NextSong   \n",
              "...            ...           ...         ...     ...        ...       ...   \n",
              "286495      286495        286495  1543622240  300011        500      Home   \n",
              "286496      286496        286496  1543622241  300011        500     Login   \n",
              "286497      286497        286497  1543622248  300011        500      Home   \n",
              "286498      286498        286498  1543622398  300011        500     About   \n",
              "286499      286499        286499  1543622411  300011        500  NextSong   \n",
              "\n",
              "              auth method  status level  ...            artist  \\\n",
              "0        Logged In    PUT     200  paid  ...    Martha Tilston   \n",
              "1        Logged In    PUT     200  free  ...  Five Iron Frenzy   \n",
              "2        Logged In    PUT     200  paid  ...      Adam Lambert   \n",
              "3        Logged In    PUT     200  free  ...            Enigma   \n",
              "4        Logged In    PUT     200  paid  ...         Daft Punk   \n",
              "...            ...    ...     ...   ...  ...               ...   \n",
              "286495  Logged Out    GET     200  paid  ...       Iron Maiden   \n",
              "286496  Logged Out    PUT     307  paid  ...       Iron Maiden   \n",
              "286497   Logged In    GET     200  paid  ...       Iron Maiden   \n",
              "286498   Logged In    GET     200  paid  ...       Iron Maiden   \n",
              "286499   Logged In    PUT     200  paid  ...    Camera Obscura   \n",
              "\n",
              "                                                     song     length  \\\n",
              "0                                               Rockpools  277.89016   \n",
              "1                                                  Canada  236.09424   \n",
              "2                                       Time For Miracles  282.82730   \n",
              "3                             Knocking On Forbidden Doors  262.71302   \n",
              "4                           Harder Better Faster Stronger  223.60771   \n",
              "...                                                   ...        ...   \n",
              "286495  Murders In The Rue Morgue (1998 Digital Remaster)  258.66404   \n",
              "286496  Murders In The Rue Morgue (1998 Digital Remaster)  258.66404   \n",
              "286497  Murders In The Rue Morgue (1998 Digital Remaster)  258.66404   \n",
              "286498  Murders In The Rue Morgue (1998 Digital Remaster)  258.66404   \n",
              "286499                                The Sun On His Back  170.89261   \n",
              "\n",
              "                   Datetime Hour  Day Month  Year        Date      Time  \n",
              "0       2018-10-01 00:01:57    0    1    10  2018  2018-10-01  00:01:57  \n",
              "1       2018-10-01 00:03:00    0    1    10  2018  2018-10-01  00:03:00  \n",
              "2       2018-10-01 00:06:34    0    1    10  2018  2018-10-01  00:06:34  \n",
              "3       2018-10-01 00:06:56    0    1    10  2018  2018-10-01  00:06:56  \n",
              "4       2018-10-01 00:11:16    0    1    10  2018  2018-10-01  00:11:16  \n",
              "...                     ...  ...  ...   ...   ...         ...       ...  \n",
              "286495  2018-11-30 23:57:20   23   30    11  2018  2018-11-30  23:57:20  \n",
              "286496  2018-11-30 23:57:21   23   30    11  2018  2018-11-30  23:57:21  \n",
              "286497  2018-11-30 23:57:28   23   30    11  2018  2018-11-30  23:57:28  \n",
              "286498  2018-11-30 23:59:58   23   30    11  2018  2018-11-30  23:59:58  \n",
              "286499  2018-12-01 00:00:11    0    1    12  2018  2018-12-01  00:00:11  \n",
              "\n",
              "[286500 rows x 27 columns]"
            ]
          },
          "metadata": {
            "tags": []
          },
          "execution_count": 7
        }
      ]
    },
    {
      "cell_type": "code",
      "metadata": {
        "id": "fF0J_BouiOK8",
        "outputId": "0f904ee7-e30a-4519-a824-68347b88dc8e"
      },
      "source": [
        "#checking for nulls\n",
        "df.isnull().sum()"
      ],
      "execution_count": null,
      "outputs": [
        {
          "output_type": "execute_result",
          "data": {
            "text/plain": [
              "Unnamed: 0       0\n",
              "Unnamed: 0.1     0\n",
              "ts               0\n",
              "userId           0\n",
              "sessionId        0\n",
              "page             0\n",
              "auth             0\n",
              "method           0\n",
              "status           0\n",
              "level            0\n",
              "itemInSession    0\n",
              "location         0\n",
              "userAgent        0\n",
              "lastName         0\n",
              "firstName        0\n",
              "registration     0\n",
              "gender           0\n",
              "artist           0\n",
              "song             0\n",
              "length           0\n",
              "Datetime         0\n",
              "Hour             0\n",
              "Day              0\n",
              "Month            0\n",
              "Year             0\n",
              "Date             0\n",
              "Time             0\n",
              "dtype: int64"
            ]
          },
          "metadata": {
            "tags": []
          },
          "execution_count": 8
        }
      ]
    },
    {
      "cell_type": "code",
      "metadata": {
        "id": "G5d8FRYviOK-",
        "outputId": "670356a1-ff3d-4e61-9349-6547a7aa8979"
      },
      "source": [
        "#column list\n",
        "df.columns.tolist()"
      ],
      "execution_count": null,
      "outputs": [
        {
          "output_type": "execute_result",
          "data": {
            "text/plain": [
              "['Unnamed: 0',\n",
              " 'Unnamed: 0.1',\n",
              " 'ts',\n",
              " 'userId',\n",
              " 'sessionId',\n",
              " 'page',\n",
              " 'auth',\n",
              " 'method',\n",
              " 'status',\n",
              " 'level',\n",
              " 'itemInSession',\n",
              " 'location',\n",
              " 'userAgent',\n",
              " 'lastName',\n",
              " 'firstName',\n",
              " 'registration',\n",
              " 'gender',\n",
              " 'artist',\n",
              " 'song',\n",
              " 'length',\n",
              " 'Datetime',\n",
              " 'Hour',\n",
              " 'Day',\n",
              " 'Month',\n",
              " 'Year',\n",
              " 'Date',\n",
              " 'Time']"
            ]
          },
          "metadata": {
            "tags": []
          },
          "execution_count": 9
        }
      ]
    },
    {
      "cell_type": "code",
      "metadata": {
        "id": "7uIaGZORiOLA",
        "outputId": "5ff11945-32e5-41c8-95f9-6a1e769c060c"
      },
      "source": [
        "#dropping duplicate values\n",
        "df.drop_duplicates(subset=[\"page\",\"level\",\"status\",\"userId\"])"
      ],
      "execution_count": null,
      "outputs": [
        {
          "output_type": "execute_result",
          "data": {
            "text/html": [
              "<div>\n",
              "<style scoped>\n",
              "    .dataframe tbody tr th:only-of-type {\n",
              "        vertical-align: middle;\n",
              "    }\n",
              "\n",
              "    .dataframe tbody tr th {\n",
              "        vertical-align: top;\n",
              "    }\n",
              "\n",
              "    .dataframe thead th {\n",
              "        text-align: right;\n",
              "    }\n",
              "</style>\n",
              "<table border=\"1\" class=\"dataframe\">\n",
              "  <thead>\n",
              "    <tr style=\"text-align: right;\">\n",
              "      <th></th>\n",
              "      <th>Unnamed: 0</th>\n",
              "      <th>Unnamed: 0.1</th>\n",
              "      <th>ts</th>\n",
              "      <th>userId</th>\n",
              "      <th>sessionId</th>\n",
              "      <th>page</th>\n",
              "      <th>auth</th>\n",
              "      <th>method</th>\n",
              "      <th>status</th>\n",
              "      <th>level</th>\n",
              "      <th>...</th>\n",
              "      <th>artist</th>\n",
              "      <th>song</th>\n",
              "      <th>length</th>\n",
              "      <th>Datetime</th>\n",
              "      <th>Hour</th>\n",
              "      <th>Day</th>\n",
              "      <th>Month</th>\n",
              "      <th>Year</th>\n",
              "      <th>Date</th>\n",
              "      <th>Time</th>\n",
              "    </tr>\n",
              "  </thead>\n",
              "  <tbody>\n",
              "    <tr>\n",
              "      <td>0</td>\n",
              "      <td>0</td>\n",
              "      <td>0</td>\n",
              "      <td>1538352117</td>\n",
              "      <td>30</td>\n",
              "      <td>29</td>\n",
              "      <td>NextSong</td>\n",
              "      <td>Logged In</td>\n",
              "      <td>PUT</td>\n",
              "      <td>200</td>\n",
              "      <td>paid</td>\n",
              "      <td>...</td>\n",
              "      <td>Martha Tilston</td>\n",
              "      <td>Rockpools</td>\n",
              "      <td>277.89016</td>\n",
              "      <td>2018-10-01 00:01:57</td>\n",
              "      <td>0</td>\n",
              "      <td>1</td>\n",
              "      <td>10</td>\n",
              "      <td>2018</td>\n",
              "      <td>2018-10-01</td>\n",
              "      <td>00:01:57</td>\n",
              "    </tr>\n",
              "    <tr>\n",
              "      <td>1</td>\n",
              "      <td>1</td>\n",
              "      <td>1</td>\n",
              "      <td>1538352180</td>\n",
              "      <td>9</td>\n",
              "      <td>8</td>\n",
              "      <td>NextSong</td>\n",
              "      <td>Logged In</td>\n",
              "      <td>PUT</td>\n",
              "      <td>200</td>\n",
              "      <td>free</td>\n",
              "      <td>...</td>\n",
              "      <td>Five Iron Frenzy</td>\n",
              "      <td>Canada</td>\n",
              "      <td>236.09424</td>\n",
              "      <td>2018-10-01 00:03:00</td>\n",
              "      <td>0</td>\n",
              "      <td>1</td>\n",
              "      <td>10</td>\n",
              "      <td>2018</td>\n",
              "      <td>2018-10-01</td>\n",
              "      <td>00:03:00</td>\n",
              "    </tr>\n",
              "    <tr>\n",
              "      <td>8</td>\n",
              "      <td>8</td>\n",
              "      <td>8</td>\n",
              "      <td>1538352905</td>\n",
              "      <td>30</td>\n",
              "      <td>29</td>\n",
              "      <td>Add to Playlist</td>\n",
              "      <td>Logged In</td>\n",
              "      <td>PUT</td>\n",
              "      <td>200</td>\n",
              "      <td>paid</td>\n",
              "      <td>...</td>\n",
              "      <td>Starflyer 59</td>\n",
              "      <td>Passengers (Old Album Version)</td>\n",
              "      <td>185.44281</td>\n",
              "      <td>2018-10-01 00:15:05</td>\n",
              "      <td>0</td>\n",
              "      <td>1</td>\n",
              "      <td>10</td>\n",
              "      <td>2018</td>\n",
              "      <td>2018-10-01</td>\n",
              "      <td>00:15:05</td>\n",
              "    </tr>\n",
              "    <tr>\n",
              "      <td>11</td>\n",
              "      <td>11</td>\n",
              "      <td>11</td>\n",
              "      <td>1538353150</td>\n",
              "      <td>9</td>\n",
              "      <td>8</td>\n",
              "      <td>Roll Advert</td>\n",
              "      <td>Logged In</td>\n",
              "      <td>GET</td>\n",
              "      <td>200</td>\n",
              "      <td>free</td>\n",
              "      <td>...</td>\n",
              "      <td>Britt Nicole</td>\n",
              "      <td>Walk On The Water</td>\n",
              "      <td>229.87710</td>\n",
              "      <td>2018-10-01 00:19:10</td>\n",
              "      <td>0</td>\n",
              "      <td>1</td>\n",
              "      <td>10</td>\n",
              "      <td>2018</td>\n",
              "      <td>2018-10-01</td>\n",
              "      <td>00:19:10</td>\n",
              "    </tr>\n",
              "    <tr>\n",
              "      <td>14</td>\n",
              "      <td>14</td>\n",
              "      <td>14</td>\n",
              "      <td>1538353376</td>\n",
              "      <td>9</td>\n",
              "      <td>8</td>\n",
              "      <td>Thumbs Up</td>\n",
              "      <td>Logged In</td>\n",
              "      <td>PUT</td>\n",
              "      <td>307</td>\n",
              "      <td>free</td>\n",
              "      <td>...</td>\n",
              "      <td>Tesla</td>\n",
              "      <td>Gettin' Better</td>\n",
              "      <td>201.06404</td>\n",
              "      <td>2018-10-01 00:22:56</td>\n",
              "      <td>0</td>\n",
              "      <td>1</td>\n",
              "      <td>10</td>\n",
              "      <td>2018</td>\n",
              "      <td>2018-10-01</td>\n",
              "      <td>00:22:56</td>\n",
              "    </tr>\n",
              "    <tr>\n",
              "      <td>...</td>\n",
              "      <td>...</td>\n",
              "      <td>...</td>\n",
              "      <td>...</td>\n",
              "      <td>...</td>\n",
              "      <td>...</td>\n",
              "      <td>...</td>\n",
              "      <td>...</td>\n",
              "      <td>...</td>\n",
              "      <td>...</td>\n",
              "      <td>...</td>\n",
              "      <td>...</td>\n",
              "      <td>...</td>\n",
              "      <td>...</td>\n",
              "      <td>...</td>\n",
              "      <td>...</td>\n",
              "      <td>...</td>\n",
              "      <td>...</td>\n",
              "      <td>...</td>\n",
              "      <td>...</td>\n",
              "      <td>...</td>\n",
              "      <td>...</td>\n",
              "    </tr>\n",
              "    <tr>\n",
              "      <td>285299</td>\n",
              "      <td>285299</td>\n",
              "      <td>285299</td>\n",
              "      <td>1543488829</td>\n",
              "      <td>300023</td>\n",
              "      <td>479</td>\n",
              "      <td>Thumbs Up</td>\n",
              "      <td>Logged In</td>\n",
              "      <td>PUT</td>\n",
              "      <td>307</td>\n",
              "      <td>free</td>\n",
              "      <td>...</td>\n",
              "      <td>The Cardigans</td>\n",
              "      <td>Erase / Rewind</td>\n",
              "      <td>218.33098</td>\n",
              "      <td>2018-11-29 10:53:49</td>\n",
              "      <td>10</td>\n",
              "      <td>29</td>\n",
              "      <td>11</td>\n",
              "      <td>2018</td>\n",
              "      <td>2018-11-29</td>\n",
              "      <td>10:53:49</td>\n",
              "    </tr>\n",
              "    <tr>\n",
              "      <td>285308</td>\n",
              "      <td>285308</td>\n",
              "      <td>285308</td>\n",
              "      <td>1543489353</td>\n",
              "      <td>300023</td>\n",
              "      <td>479</td>\n",
              "      <td>Add to Playlist</td>\n",
              "      <td>Logged In</td>\n",
              "      <td>PUT</td>\n",
              "      <td>200</td>\n",
              "      <td>free</td>\n",
              "      <td>...</td>\n",
              "      <td>Yonder Mountain String Band</td>\n",
              "      <td>Things You're Selling</td>\n",
              "      <td>263.10485</td>\n",
              "      <td>2018-11-29 11:02:33</td>\n",
              "      <td>11</td>\n",
              "      <td>29</td>\n",
              "      <td>11</td>\n",
              "      <td>2018</td>\n",
              "      <td>2018-11-29</td>\n",
              "      <td>11:02:33</td>\n",
              "    </tr>\n",
              "    <tr>\n",
              "      <td>285344</td>\n",
              "      <td>285344</td>\n",
              "      <td>285344</td>\n",
              "      <td>1543494316</td>\n",
              "      <td>300023</td>\n",
              "      <td>479</td>\n",
              "      <td>Logout</td>\n",
              "      <td>Logged In</td>\n",
              "      <td>PUT</td>\n",
              "      <td>307</td>\n",
              "      <td>free</td>\n",
              "      <td>...</td>\n",
              "      <td>Austin Collins</td>\n",
              "      <td>Things You Want The Most</td>\n",
              "      <td>179.93098</td>\n",
              "      <td>2018-11-29 12:25:16</td>\n",
              "      <td>12</td>\n",
              "      <td>29</td>\n",
              "      <td>11</td>\n",
              "      <td>2018</td>\n",
              "      <td>2018-11-29</td>\n",
              "      <td>12:25:16</td>\n",
              "    </tr>\n",
              "    <tr>\n",
              "      <td>285356</td>\n",
              "      <td>285356</td>\n",
              "      <td>285356</td>\n",
              "      <td>1543495183</td>\n",
              "      <td>300023</td>\n",
              "      <td>479</td>\n",
              "      <td>Upgrade</td>\n",
              "      <td>Logged In</td>\n",
              "      <td>GET</td>\n",
              "      <td>200</td>\n",
              "      <td>free</td>\n",
              "      <td>...</td>\n",
              "      <td>Boikot</td>\n",
              "      <td>No pasarÃÂ¡n</td>\n",
              "      <td>245.13261</td>\n",
              "      <td>2018-11-29 12:39:43</td>\n",
              "      <td>12</td>\n",
              "      <td>29</td>\n",
              "      <td>11</td>\n",
              "      <td>2018</td>\n",
              "      <td>2018-11-29</td>\n",
              "      <td>12:39:43</td>\n",
              "    </tr>\n",
              "    <tr>\n",
              "      <td>285357</td>\n",
              "      <td>285357</td>\n",
              "      <td>285357</td>\n",
              "      <td>1543495184</td>\n",
              "      <td>300023</td>\n",
              "      <td>479</td>\n",
              "      <td>Submit Upgrade</td>\n",
              "      <td>Logged In</td>\n",
              "      <td>PUT</td>\n",
              "      <td>307</td>\n",
              "      <td>free</td>\n",
              "      <td>...</td>\n",
              "      <td>Boikot</td>\n",
              "      <td>No pasarÃÂ¡n</td>\n",
              "      <td>245.13261</td>\n",
              "      <td>2018-11-29 12:39:44</td>\n",
              "      <td>12</td>\n",
              "      <td>29</td>\n",
              "      <td>11</td>\n",
              "      <td>2018</td>\n",
              "      <td>2018-11-29</td>\n",
              "      <td>12:39:44</td>\n",
              "    </tr>\n",
              "  </tbody>\n",
              "</table>\n",
              "<p>4780 rows × 27 columns</p>\n",
              "</div>"
            ],
            "text/plain": [
              "        Unnamed: 0  Unnamed: 0.1          ts  userId  sessionId  \\\n",
              "0                0             0  1538352117      30         29   \n",
              "1                1             1  1538352180       9          8   \n",
              "8                8             8  1538352905      30         29   \n",
              "11              11            11  1538353150       9          8   \n",
              "14              14            14  1538353376       9          8   \n",
              "...            ...           ...         ...     ...        ...   \n",
              "285299      285299        285299  1543488829  300023        479   \n",
              "285308      285308        285308  1543489353  300023        479   \n",
              "285344      285344        285344  1543494316  300023        479   \n",
              "285356      285356        285356  1543495183  300023        479   \n",
              "285357      285357        285357  1543495184  300023        479   \n",
              "\n",
              "                   page       auth method  status level  ...  \\\n",
              "0              NextSong  Logged In    PUT     200  paid  ...   \n",
              "1              NextSong  Logged In    PUT     200  free  ...   \n",
              "8       Add to Playlist  Logged In    PUT     200  paid  ...   \n",
              "11          Roll Advert  Logged In    GET     200  free  ...   \n",
              "14            Thumbs Up  Logged In    PUT     307  free  ...   \n",
              "...                 ...        ...    ...     ...   ...  ...   \n",
              "285299        Thumbs Up  Logged In    PUT     307  free  ...   \n",
              "285308  Add to Playlist  Logged In    PUT     200  free  ...   \n",
              "285344           Logout  Logged In    PUT     307  free  ...   \n",
              "285356          Upgrade  Logged In    GET     200  free  ...   \n",
              "285357   Submit Upgrade  Logged In    PUT     307  free  ...   \n",
              "\n",
              "                             artist                            song  \\\n",
              "0                    Martha Tilston                       Rockpools   \n",
              "1                  Five Iron Frenzy                          Canada   \n",
              "8                      Starflyer 59  Passengers (Old Album Version)   \n",
              "11                     Britt Nicole               Walk On The Water   \n",
              "14                            Tesla                  Gettin' Better   \n",
              "...                             ...                             ...   \n",
              "285299                The Cardigans                  Erase / Rewind   \n",
              "285308  Yonder Mountain String Band           Things You're Selling   \n",
              "285344               Austin Collins        Things You Want The Most   \n",
              "285356                       Boikot                   No pasarÃÂ¡n   \n",
              "285357                       Boikot                   No pasarÃÂ¡n   \n",
              "\n",
              "           length             Datetime Hour  Day Month  Year        Date  \\\n",
              "0       277.89016  2018-10-01 00:01:57    0    1    10  2018  2018-10-01   \n",
              "1       236.09424  2018-10-01 00:03:00    0    1    10  2018  2018-10-01   \n",
              "8       185.44281  2018-10-01 00:15:05    0    1    10  2018  2018-10-01   \n",
              "11      229.87710  2018-10-01 00:19:10    0    1    10  2018  2018-10-01   \n",
              "14      201.06404  2018-10-01 00:22:56    0    1    10  2018  2018-10-01   \n",
              "...           ...                  ...  ...  ...   ...   ...         ...   \n",
              "285299  218.33098  2018-11-29 10:53:49   10   29    11  2018  2018-11-29   \n",
              "285308  263.10485  2018-11-29 11:02:33   11   29    11  2018  2018-11-29   \n",
              "285344  179.93098  2018-11-29 12:25:16   12   29    11  2018  2018-11-29   \n",
              "285356  245.13261  2018-11-29 12:39:43   12   29    11  2018  2018-11-29   \n",
              "285357  245.13261  2018-11-29 12:39:44   12   29    11  2018  2018-11-29   \n",
              "\n",
              "            Time  \n",
              "0       00:01:57  \n",
              "1       00:03:00  \n",
              "8       00:15:05  \n",
              "11      00:19:10  \n",
              "14      00:22:56  \n",
              "...          ...  \n",
              "285299  10:53:49  \n",
              "285308  11:02:33  \n",
              "285344  12:25:16  \n",
              "285356  12:39:43  \n",
              "285357  12:39:44  \n",
              "\n",
              "[4780 rows x 27 columns]"
            ]
          },
          "metadata": {
            "tags": []
          },
          "execution_count": 10
        }
      ]
    },
    {
      "cell_type": "code",
      "metadata": {
        "scrolled": true,
        "id": "PLtqlEyUiOLB"
      },
      "source": [
        "#dropping unnecessary columns\n",
        "df.drop(['Unnamed: 0','Unnamed: 0.1','ts','registration','Datetime','Time','Date'],axis=1,inplace=True)"
      ],
      "execution_count": null,
      "outputs": []
    },
    {
      "cell_type": "code",
      "metadata": {
        "id": "rcT29RqZiOLC"
      },
      "source": [
        "#extracting last two characters from location(eg.CA-California)\n",
        "df['location'] = df['location'].str[-2:]"
      ],
      "execution_count": null,
      "outputs": []
    },
    {
      "cell_type": "code",
      "metadata": {
        "id": "nvT7j8gpiOLE",
        "outputId": "b9f68ef2-6cb6-4296-ec24-5a07d88351ca"
      },
      "source": [
        "df.head()"
      ],
      "execution_count": null,
      "outputs": [
        {
          "output_type": "execute_result",
          "data": {
            "text/html": [
              "<div>\n",
              "<style scoped>\n",
              "    .dataframe tbody tr th:only-of-type {\n",
              "        vertical-align: middle;\n",
              "    }\n",
              "\n",
              "    .dataframe tbody tr th {\n",
              "        vertical-align: top;\n",
              "    }\n",
              "\n",
              "    .dataframe thead th {\n",
              "        text-align: right;\n",
              "    }\n",
              "</style>\n",
              "<table border=\"1\" class=\"dataframe\">\n",
              "  <thead>\n",
              "    <tr style=\"text-align: right;\">\n",
              "      <th></th>\n",
              "      <th>userId</th>\n",
              "      <th>sessionId</th>\n",
              "      <th>page</th>\n",
              "      <th>auth</th>\n",
              "      <th>method</th>\n",
              "      <th>status</th>\n",
              "      <th>level</th>\n",
              "      <th>itemInSession</th>\n",
              "      <th>location</th>\n",
              "      <th>userAgent</th>\n",
              "      <th>lastName</th>\n",
              "      <th>firstName</th>\n",
              "      <th>gender</th>\n",
              "      <th>artist</th>\n",
              "      <th>song</th>\n",
              "      <th>length</th>\n",
              "      <th>Hour</th>\n",
              "      <th>Day</th>\n",
              "      <th>Month</th>\n",
              "      <th>Year</th>\n",
              "    </tr>\n",
              "  </thead>\n",
              "  <tbody>\n",
              "    <tr>\n",
              "      <td>0</td>\n",
              "      <td>30</td>\n",
              "      <td>29</td>\n",
              "      <td>NextSong</td>\n",
              "      <td>Logged In</td>\n",
              "      <td>PUT</td>\n",
              "      <td>200</td>\n",
              "      <td>paid</td>\n",
              "      <td>50</td>\n",
              "      <td>CA</td>\n",
              "      <td>Mozilla/5.0 (Windows NT 6.1; WOW64; rv:31.0) G...</td>\n",
              "      <td>Freeman</td>\n",
              "      <td>Colin</td>\n",
              "      <td>M</td>\n",
              "      <td>Martha Tilston</td>\n",
              "      <td>Rockpools</td>\n",
              "      <td>277.89016</td>\n",
              "      <td>0</td>\n",
              "      <td>1</td>\n",
              "      <td>10</td>\n",
              "      <td>2018</td>\n",
              "    </tr>\n",
              "    <tr>\n",
              "      <td>1</td>\n",
              "      <td>9</td>\n",
              "      <td>8</td>\n",
              "      <td>NextSong</td>\n",
              "      <td>Logged In</td>\n",
              "      <td>PUT</td>\n",
              "      <td>200</td>\n",
              "      <td>free</td>\n",
              "      <td>79</td>\n",
              "      <td>NH</td>\n",
              "      <td>\"Mozilla/5.0 (Windows NT 6.1; WOW64) AppleWebK...</td>\n",
              "      <td>Long</td>\n",
              "      <td>Micah</td>\n",
              "      <td>M</td>\n",
              "      <td>Five Iron Frenzy</td>\n",
              "      <td>Canada</td>\n",
              "      <td>236.09424</td>\n",
              "      <td>0</td>\n",
              "      <td>1</td>\n",
              "      <td>10</td>\n",
              "      <td>2018</td>\n",
              "    </tr>\n",
              "    <tr>\n",
              "      <td>2</td>\n",
              "      <td>30</td>\n",
              "      <td>29</td>\n",
              "      <td>NextSong</td>\n",
              "      <td>Logged In</td>\n",
              "      <td>PUT</td>\n",
              "      <td>200</td>\n",
              "      <td>paid</td>\n",
              "      <td>51</td>\n",
              "      <td>CA</td>\n",
              "      <td>Mozilla/5.0 (Windows NT 6.1; WOW64; rv:31.0) G...</td>\n",
              "      <td>Freeman</td>\n",
              "      <td>Colin</td>\n",
              "      <td>M</td>\n",
              "      <td>Adam Lambert</td>\n",
              "      <td>Time For Miracles</td>\n",
              "      <td>282.82730</td>\n",
              "      <td>0</td>\n",
              "      <td>1</td>\n",
              "      <td>10</td>\n",
              "      <td>2018</td>\n",
              "    </tr>\n",
              "    <tr>\n",
              "      <td>3</td>\n",
              "      <td>9</td>\n",
              "      <td>8</td>\n",
              "      <td>NextSong</td>\n",
              "      <td>Logged In</td>\n",
              "      <td>PUT</td>\n",
              "      <td>200</td>\n",
              "      <td>free</td>\n",
              "      <td>80</td>\n",
              "      <td>NH</td>\n",
              "      <td>\"Mozilla/5.0 (Windows NT 6.1; WOW64) AppleWebK...</td>\n",
              "      <td>Long</td>\n",
              "      <td>Micah</td>\n",
              "      <td>M</td>\n",
              "      <td>Enigma</td>\n",
              "      <td>Knocking On Forbidden Doors</td>\n",
              "      <td>262.71302</td>\n",
              "      <td>0</td>\n",
              "      <td>1</td>\n",
              "      <td>10</td>\n",
              "      <td>2018</td>\n",
              "    </tr>\n",
              "    <tr>\n",
              "      <td>4</td>\n",
              "      <td>30</td>\n",
              "      <td>29</td>\n",
              "      <td>NextSong</td>\n",
              "      <td>Logged In</td>\n",
              "      <td>PUT</td>\n",
              "      <td>200</td>\n",
              "      <td>paid</td>\n",
              "      <td>52</td>\n",
              "      <td>CA</td>\n",
              "      <td>Mozilla/5.0 (Windows NT 6.1; WOW64; rv:31.0) G...</td>\n",
              "      <td>Freeman</td>\n",
              "      <td>Colin</td>\n",
              "      <td>M</td>\n",
              "      <td>Daft Punk</td>\n",
              "      <td>Harder Better Faster Stronger</td>\n",
              "      <td>223.60771</td>\n",
              "      <td>0</td>\n",
              "      <td>1</td>\n",
              "      <td>10</td>\n",
              "      <td>2018</td>\n",
              "    </tr>\n",
              "  </tbody>\n",
              "</table>\n",
              "</div>"
            ],
            "text/plain": [
              "   userId  sessionId      page       auth method  status level  itemInSession  \\\n",
              "0      30         29  NextSong  Logged In    PUT     200  paid             50   \n",
              "1       9          8  NextSong  Logged In    PUT     200  free             79   \n",
              "2      30         29  NextSong  Logged In    PUT     200  paid             51   \n",
              "3       9          8  NextSong  Logged In    PUT     200  free             80   \n",
              "4      30         29  NextSong  Logged In    PUT     200  paid             52   \n",
              "\n",
              "  location                                          userAgent lastName  \\\n",
              "0       CA  Mozilla/5.0 (Windows NT 6.1; WOW64; rv:31.0) G...  Freeman   \n",
              "1       NH  \"Mozilla/5.0 (Windows NT 6.1; WOW64) AppleWebK...     Long   \n",
              "2       CA  Mozilla/5.0 (Windows NT 6.1; WOW64; rv:31.0) G...  Freeman   \n",
              "3       NH  \"Mozilla/5.0 (Windows NT 6.1; WOW64) AppleWebK...     Long   \n",
              "4       CA  Mozilla/5.0 (Windows NT 6.1; WOW64; rv:31.0) G...  Freeman   \n",
              "\n",
              "  firstName gender            artist                           song  \\\n",
              "0     Colin      M    Martha Tilston                      Rockpools   \n",
              "1     Micah      M  Five Iron Frenzy                         Canada   \n",
              "2     Colin      M      Adam Lambert              Time For Miracles   \n",
              "3     Micah      M            Enigma    Knocking On Forbidden Doors   \n",
              "4     Colin      M         Daft Punk  Harder Better Faster Stronger   \n",
              "\n",
              "      length  Hour  Day  Month  Year  \n",
              "0  277.89016     0    1     10  2018  \n",
              "1  236.09424     0    1     10  2018  \n",
              "2  282.82730     0    1     10  2018  \n",
              "3  262.71302     0    1     10  2018  \n",
              "4  223.60771     0    1     10  2018  "
            ]
          },
          "metadata": {
            "tags": []
          },
          "execution_count": 13
        }
      ]
    },
    {
      "cell_type": "markdown",
      "metadata": {
        "id": "NdEwz7C8iOLG"
      },
      "source": [
        "## Defining churn"
      ]
    },
    {
      "cell_type": "markdown",
      "metadata": {
        "id": "HMhqHq6FiOLH"
      },
      "source": [
        "For predicting churn, first we need to create a churn column using values in page columns. if page= 'Cancellation Confirmation', 'downgrade' and 'submit downgrade' than customers has churned(1) -which means they have either canceld subsciption or moved to free service, if not this case the customer has not churned(0)."
      ]
    },
    {
      "cell_type": "code",
      "metadata": {
        "id": "RY_TBtNuiOLI"
      },
      "source": [
        "def churning(i):\n",
        "    if (i['page'] == 'Cancellation Confirmation') or (i['page'] == 'Downgrade') or (i['page'] > 'Submit Downgrade'):\n",
        "        return 1\n",
        "    else:\n",
        "        return 0\n",
        "    \n",
        "df['churn'] = df.apply(churning, axis=1)"
      ],
      "execution_count": null,
      "outputs": []
    },
    {
      "cell_type": "code",
      "metadata": {
        "id": "TWgW_moLiOLK",
        "outputId": "ed9ff7ab-b042-4b6e-855b-55c83e32f1c3"
      },
      "source": [
        "df.head()"
      ],
      "execution_count": null,
      "outputs": [
        {
          "output_type": "execute_result",
          "data": {
            "text/html": [
              "<div>\n",
              "<style scoped>\n",
              "    .dataframe tbody tr th:only-of-type {\n",
              "        vertical-align: middle;\n",
              "    }\n",
              "\n",
              "    .dataframe tbody tr th {\n",
              "        vertical-align: top;\n",
              "    }\n",
              "\n",
              "    .dataframe thead th {\n",
              "        text-align: right;\n",
              "    }\n",
              "</style>\n",
              "<table border=\"1\" class=\"dataframe\">\n",
              "  <thead>\n",
              "    <tr style=\"text-align: right;\">\n",
              "      <th></th>\n",
              "      <th>userId</th>\n",
              "      <th>sessionId</th>\n",
              "      <th>page</th>\n",
              "      <th>auth</th>\n",
              "      <th>method</th>\n",
              "      <th>status</th>\n",
              "      <th>level</th>\n",
              "      <th>itemInSession</th>\n",
              "      <th>location</th>\n",
              "      <th>userAgent</th>\n",
              "      <th>...</th>\n",
              "      <th>firstName</th>\n",
              "      <th>gender</th>\n",
              "      <th>artist</th>\n",
              "      <th>song</th>\n",
              "      <th>length</th>\n",
              "      <th>Hour</th>\n",
              "      <th>Day</th>\n",
              "      <th>Month</th>\n",
              "      <th>Year</th>\n",
              "      <th>churn</th>\n",
              "    </tr>\n",
              "  </thead>\n",
              "  <tbody>\n",
              "    <tr>\n",
              "      <td>0</td>\n",
              "      <td>30</td>\n",
              "      <td>29</td>\n",
              "      <td>NextSong</td>\n",
              "      <td>Logged In</td>\n",
              "      <td>PUT</td>\n",
              "      <td>200</td>\n",
              "      <td>paid</td>\n",
              "      <td>50</td>\n",
              "      <td>CA</td>\n",
              "      <td>Mozilla/5.0 (Windows NT 6.1; WOW64; rv:31.0) G...</td>\n",
              "      <td>...</td>\n",
              "      <td>Colin</td>\n",
              "      <td>M</td>\n",
              "      <td>Martha Tilston</td>\n",
              "      <td>Rockpools</td>\n",
              "      <td>277.89016</td>\n",
              "      <td>0</td>\n",
              "      <td>1</td>\n",
              "      <td>10</td>\n",
              "      <td>2018</td>\n",
              "      <td>0</td>\n",
              "    </tr>\n",
              "    <tr>\n",
              "      <td>1</td>\n",
              "      <td>9</td>\n",
              "      <td>8</td>\n",
              "      <td>NextSong</td>\n",
              "      <td>Logged In</td>\n",
              "      <td>PUT</td>\n",
              "      <td>200</td>\n",
              "      <td>free</td>\n",
              "      <td>79</td>\n",
              "      <td>NH</td>\n",
              "      <td>\"Mozilla/5.0 (Windows NT 6.1; WOW64) AppleWebK...</td>\n",
              "      <td>...</td>\n",
              "      <td>Micah</td>\n",
              "      <td>M</td>\n",
              "      <td>Five Iron Frenzy</td>\n",
              "      <td>Canada</td>\n",
              "      <td>236.09424</td>\n",
              "      <td>0</td>\n",
              "      <td>1</td>\n",
              "      <td>10</td>\n",
              "      <td>2018</td>\n",
              "      <td>0</td>\n",
              "    </tr>\n",
              "    <tr>\n",
              "      <td>2</td>\n",
              "      <td>30</td>\n",
              "      <td>29</td>\n",
              "      <td>NextSong</td>\n",
              "      <td>Logged In</td>\n",
              "      <td>PUT</td>\n",
              "      <td>200</td>\n",
              "      <td>paid</td>\n",
              "      <td>51</td>\n",
              "      <td>CA</td>\n",
              "      <td>Mozilla/5.0 (Windows NT 6.1; WOW64; rv:31.0) G...</td>\n",
              "      <td>...</td>\n",
              "      <td>Colin</td>\n",
              "      <td>M</td>\n",
              "      <td>Adam Lambert</td>\n",
              "      <td>Time For Miracles</td>\n",
              "      <td>282.82730</td>\n",
              "      <td>0</td>\n",
              "      <td>1</td>\n",
              "      <td>10</td>\n",
              "      <td>2018</td>\n",
              "      <td>0</td>\n",
              "    </tr>\n",
              "    <tr>\n",
              "      <td>3</td>\n",
              "      <td>9</td>\n",
              "      <td>8</td>\n",
              "      <td>NextSong</td>\n",
              "      <td>Logged In</td>\n",
              "      <td>PUT</td>\n",
              "      <td>200</td>\n",
              "      <td>free</td>\n",
              "      <td>80</td>\n",
              "      <td>NH</td>\n",
              "      <td>\"Mozilla/5.0 (Windows NT 6.1; WOW64) AppleWebK...</td>\n",
              "      <td>...</td>\n",
              "      <td>Micah</td>\n",
              "      <td>M</td>\n",
              "      <td>Enigma</td>\n",
              "      <td>Knocking On Forbidden Doors</td>\n",
              "      <td>262.71302</td>\n",
              "      <td>0</td>\n",
              "      <td>1</td>\n",
              "      <td>10</td>\n",
              "      <td>2018</td>\n",
              "      <td>0</td>\n",
              "    </tr>\n",
              "    <tr>\n",
              "      <td>4</td>\n",
              "      <td>30</td>\n",
              "      <td>29</td>\n",
              "      <td>NextSong</td>\n",
              "      <td>Logged In</td>\n",
              "      <td>PUT</td>\n",
              "      <td>200</td>\n",
              "      <td>paid</td>\n",
              "      <td>52</td>\n",
              "      <td>CA</td>\n",
              "      <td>Mozilla/5.0 (Windows NT 6.1; WOW64; rv:31.0) G...</td>\n",
              "      <td>...</td>\n",
              "      <td>Colin</td>\n",
              "      <td>M</td>\n",
              "      <td>Daft Punk</td>\n",
              "      <td>Harder Better Faster Stronger</td>\n",
              "      <td>223.60771</td>\n",
              "      <td>0</td>\n",
              "      <td>1</td>\n",
              "      <td>10</td>\n",
              "      <td>2018</td>\n",
              "      <td>0</td>\n",
              "    </tr>\n",
              "  </tbody>\n",
              "</table>\n",
              "<p>5 rows × 21 columns</p>\n",
              "</div>"
            ],
            "text/plain": [
              "   userId  sessionId      page       auth method  status level  itemInSession  \\\n",
              "0      30         29  NextSong  Logged In    PUT     200  paid             50   \n",
              "1       9          8  NextSong  Logged In    PUT     200  free             79   \n",
              "2      30         29  NextSong  Logged In    PUT     200  paid             51   \n",
              "3       9          8  NextSong  Logged In    PUT     200  free             80   \n",
              "4      30         29  NextSong  Logged In    PUT     200  paid             52   \n",
              "\n",
              "  location                                          userAgent  ... firstName  \\\n",
              "0       CA  Mozilla/5.0 (Windows NT 6.1; WOW64; rv:31.0) G...  ...     Colin   \n",
              "1       NH  \"Mozilla/5.0 (Windows NT 6.1; WOW64) AppleWebK...  ...     Micah   \n",
              "2       CA  Mozilla/5.0 (Windows NT 6.1; WOW64; rv:31.0) G...  ...     Colin   \n",
              "3       NH  \"Mozilla/5.0 (Windows NT 6.1; WOW64) AppleWebK...  ...     Micah   \n",
              "4       CA  Mozilla/5.0 (Windows NT 6.1; WOW64; rv:31.0) G...  ...     Colin   \n",
              "\n",
              "  gender            artist                           song     length  Hour  \\\n",
              "0      M    Martha Tilston                      Rockpools  277.89016     0   \n",
              "1      M  Five Iron Frenzy                         Canada  236.09424     0   \n",
              "2      M      Adam Lambert              Time For Miracles  282.82730     0   \n",
              "3      M            Enigma    Knocking On Forbidden Doors  262.71302     0   \n",
              "4      M         Daft Punk  Harder Better Faster Stronger  223.60771     0   \n",
              "\n",
              "   Day  Month  Year  churn  \n",
              "0    1     10  2018      0  \n",
              "1    1     10  2018      0  \n",
              "2    1     10  2018      0  \n",
              "3    1     10  2018      0  \n",
              "4    1     10  2018      0  \n",
              "\n",
              "[5 rows x 21 columns]"
            ]
          },
          "metadata": {
            "tags": []
          },
          "execution_count": 15
        }
      ]
    },
    {
      "cell_type": "code",
      "metadata": {
        "id": "NCI8qTzfiOLL",
        "outputId": "08295a33-123e-471e-ae3b-368cd460e6b8"
      },
      "source": [
        "#all the unique values from each column\n",
        "df.nunique()"
      ],
      "execution_count": null,
      "outputs": [
        {
          "output_type": "execute_result",
          "data": {
            "text/plain": [
              "userId             225\n",
              "sessionId         2354\n",
              "page                22\n",
              "auth                 4\n",
              "method               2\n",
              "status               3\n",
              "level                2\n",
              "itemInSession     1322\n",
              "location            39\n",
              "userAgent           56\n",
              "lastName           173\n",
              "firstName          189\n",
              "gender               2\n",
              "artist           17655\n",
              "song             58478\n",
              "length           14865\n",
              "Hour                24\n",
              "Day                 31\n",
              "Month                3\n",
              "Year                 1\n",
              "churn                2\n",
              "dtype: int64"
            ]
          },
          "metadata": {
            "tags": []
          },
          "execution_count": 16
        }
      ]
    },
    {
      "cell_type": "code",
      "metadata": {
        "id": "stp01oFFiOLM"
      },
      "source": [
        "#id columns\n",
        "Id_cols     = ['userId','sessionId']\n",
        "\n",
        "#Target variable\n",
        "target_col = [\"Churn\"]\n",
        "\n",
        "#categorical variables\n",
        "cat_cols   = df.nunique()[df.nunique() < 6].keys().tolist()\n",
        "cat_cols   = [x for x in cat_cols if x not in target_col]\n",
        "\n",
        "#numerical variables\n",
        "num_cols   = ['itemInSession','length']\n",
        "\n",
        "#categorical Binary variables \n",
        "bin_cols   = df.nunique()[df.nunique() == 2].keys().tolist()\n",
        "\n",
        "#Columns that have more than 2 values, and not in categorical and binary columns list\n",
        "multi_cols = [i for i in cat_cols if i not in bin_cols]\n",
        "\n",
        "#Time columns\n",
        "time_cols=['Hour','Day']"
      ],
      "execution_count": null,
      "outputs": []
    },
    {
      "cell_type": "code",
      "metadata": {
        "id": "Gu75DMNBiOLO",
        "outputId": "bc80606c-a9a8-4826-d717-3727e6c9bdac"
      },
      "source": [
        "cat_cols"
      ],
      "execution_count": null,
      "outputs": [
        {
          "output_type": "execute_result",
          "data": {
            "text/plain": [
              "['auth', 'method', 'status', 'level', 'gender', 'Month', 'Year', 'churn']"
            ]
          },
          "metadata": {
            "tags": []
          },
          "execution_count": 18
        }
      ]
    },
    {
      "cell_type": "code",
      "metadata": {
        "id": "o6PFavOsiOLP",
        "outputId": "01f1f8c9-aa09-4875-d5b3-a76bfafdaccc"
      },
      "source": [
        "bin_cols"
      ],
      "execution_count": null,
      "outputs": [
        {
          "output_type": "execute_result",
          "data": {
            "text/plain": [
              "['method', 'level', 'gender', 'churn']"
            ]
          },
          "metadata": {
            "tags": []
          },
          "execution_count": 19
        }
      ]
    },
    {
      "cell_type": "code",
      "metadata": {
        "id": "fqcjGZTziOLQ",
        "outputId": "ad5427fb-ecdb-4ca6-8b2c-51695cb8c6bb"
      },
      "source": [
        "multi_cols"
      ],
      "execution_count": null,
      "outputs": [
        {
          "output_type": "execute_result",
          "data": {
            "text/plain": [
              "['auth', 'status', 'Month', 'Year']"
            ]
          },
          "metadata": {
            "tags": []
          },
          "execution_count": 20
        }
      ]
    },
    {
      "cell_type": "code",
      "metadata": {
        "id": "JX_iVZkYiOLR"
      },
      "source": [
        "#Label encoding Binary columns with 0 and 1\n",
        "from sklearn.preprocessing import LabelEncoder\n",
        "en = LabelEncoder()\n",
        "for i in bin_cols :\n",
        "    df[i] = en.fit_transform(df[i])\n",
        "    \n",
        "#Making variable columns for multi value columns\n",
        "df = pd.get_dummies(data = df,columns = multi_cols)"
      ],
      "execution_count": null,
      "outputs": []
    },
    {
      "cell_type": "code",
      "metadata": {
        "id": "Qv0TVlUYiOLS",
        "outputId": "2057db3a-1530-437e-94fe-afa1cd026aba"
      },
      "source": [
        "df"
      ],
      "execution_count": null,
      "outputs": [
        {
          "output_type": "execute_result",
          "data": {
            "text/html": [
              "<div>\n",
              "<style scoped>\n",
              "    .dataframe tbody tr th:only-of-type {\n",
              "        vertical-align: middle;\n",
              "    }\n",
              "\n",
              "    .dataframe tbody tr th {\n",
              "        vertical-align: top;\n",
              "    }\n",
              "\n",
              "    .dataframe thead th {\n",
              "        text-align: right;\n",
              "    }\n",
              "</style>\n",
              "<table border=\"1\" class=\"dataframe\">\n",
              "  <thead>\n",
              "    <tr style=\"text-align: right;\">\n",
              "      <th></th>\n",
              "      <th>userId</th>\n",
              "      <th>sessionId</th>\n",
              "      <th>page</th>\n",
              "      <th>method</th>\n",
              "      <th>level</th>\n",
              "      <th>itemInSession</th>\n",
              "      <th>location</th>\n",
              "      <th>userAgent</th>\n",
              "      <th>lastName</th>\n",
              "      <th>firstName</th>\n",
              "      <th>...</th>\n",
              "      <th>auth_Guest</th>\n",
              "      <th>auth_Logged In</th>\n",
              "      <th>auth_Logged Out</th>\n",
              "      <th>status_200</th>\n",
              "      <th>status_307</th>\n",
              "      <th>status_404</th>\n",
              "      <th>Month_10</th>\n",
              "      <th>Month_11</th>\n",
              "      <th>Month_12</th>\n",
              "      <th>Year_2018</th>\n",
              "    </tr>\n",
              "  </thead>\n",
              "  <tbody>\n",
              "    <tr>\n",
              "      <td>0</td>\n",
              "      <td>30</td>\n",
              "      <td>29</td>\n",
              "      <td>NextSong</td>\n",
              "      <td>1</td>\n",
              "      <td>1</td>\n",
              "      <td>50</td>\n",
              "      <td>CA</td>\n",
              "      <td>Mozilla/5.0 (Windows NT 6.1; WOW64; rv:31.0) G...</td>\n",
              "      <td>Freeman</td>\n",
              "      <td>Colin</td>\n",
              "      <td>...</td>\n",
              "      <td>0</td>\n",
              "      <td>1</td>\n",
              "      <td>0</td>\n",
              "      <td>1</td>\n",
              "      <td>0</td>\n",
              "      <td>0</td>\n",
              "      <td>1</td>\n",
              "      <td>0</td>\n",
              "      <td>0</td>\n",
              "      <td>1</td>\n",
              "    </tr>\n",
              "    <tr>\n",
              "      <td>1</td>\n",
              "      <td>9</td>\n",
              "      <td>8</td>\n",
              "      <td>NextSong</td>\n",
              "      <td>1</td>\n",
              "      <td>0</td>\n",
              "      <td>79</td>\n",
              "      <td>NH</td>\n",
              "      <td>\"Mozilla/5.0 (Windows NT 6.1; WOW64) AppleWebK...</td>\n",
              "      <td>Long</td>\n",
              "      <td>Micah</td>\n",
              "      <td>...</td>\n",
              "      <td>0</td>\n",
              "      <td>1</td>\n",
              "      <td>0</td>\n",
              "      <td>1</td>\n",
              "      <td>0</td>\n",
              "      <td>0</td>\n",
              "      <td>1</td>\n",
              "      <td>0</td>\n",
              "      <td>0</td>\n",
              "      <td>1</td>\n",
              "    </tr>\n",
              "    <tr>\n",
              "      <td>2</td>\n",
              "      <td>30</td>\n",
              "      <td>29</td>\n",
              "      <td>NextSong</td>\n",
              "      <td>1</td>\n",
              "      <td>1</td>\n",
              "      <td>51</td>\n",
              "      <td>CA</td>\n",
              "      <td>Mozilla/5.0 (Windows NT 6.1; WOW64; rv:31.0) G...</td>\n",
              "      <td>Freeman</td>\n",
              "      <td>Colin</td>\n",
              "      <td>...</td>\n",
              "      <td>0</td>\n",
              "      <td>1</td>\n",
              "      <td>0</td>\n",
              "      <td>1</td>\n",
              "      <td>0</td>\n",
              "      <td>0</td>\n",
              "      <td>1</td>\n",
              "      <td>0</td>\n",
              "      <td>0</td>\n",
              "      <td>1</td>\n",
              "    </tr>\n",
              "    <tr>\n",
              "      <td>3</td>\n",
              "      <td>9</td>\n",
              "      <td>8</td>\n",
              "      <td>NextSong</td>\n",
              "      <td>1</td>\n",
              "      <td>0</td>\n",
              "      <td>80</td>\n",
              "      <td>NH</td>\n",
              "      <td>\"Mozilla/5.0 (Windows NT 6.1; WOW64) AppleWebK...</td>\n",
              "      <td>Long</td>\n",
              "      <td>Micah</td>\n",
              "      <td>...</td>\n",
              "      <td>0</td>\n",
              "      <td>1</td>\n",
              "      <td>0</td>\n",
              "      <td>1</td>\n",
              "      <td>0</td>\n",
              "      <td>0</td>\n",
              "      <td>1</td>\n",
              "      <td>0</td>\n",
              "      <td>0</td>\n",
              "      <td>1</td>\n",
              "    </tr>\n",
              "    <tr>\n",
              "      <td>4</td>\n",
              "      <td>30</td>\n",
              "      <td>29</td>\n",
              "      <td>NextSong</td>\n",
              "      <td>1</td>\n",
              "      <td>1</td>\n",
              "      <td>52</td>\n",
              "      <td>CA</td>\n",
              "      <td>Mozilla/5.0 (Windows NT 6.1; WOW64; rv:31.0) G...</td>\n",
              "      <td>Freeman</td>\n",
              "      <td>Colin</td>\n",
              "      <td>...</td>\n",
              "      <td>0</td>\n",
              "      <td>1</td>\n",
              "      <td>0</td>\n",
              "      <td>1</td>\n",
              "      <td>0</td>\n",
              "      <td>0</td>\n",
              "      <td>1</td>\n",
              "      <td>0</td>\n",
              "      <td>0</td>\n",
              "      <td>1</td>\n",
              "    </tr>\n",
              "    <tr>\n",
              "      <td>...</td>\n",
              "      <td>...</td>\n",
              "      <td>...</td>\n",
              "      <td>...</td>\n",
              "      <td>...</td>\n",
              "      <td>...</td>\n",
              "      <td>...</td>\n",
              "      <td>...</td>\n",
              "      <td>...</td>\n",
              "      <td>...</td>\n",
              "      <td>...</td>\n",
              "      <td>...</td>\n",
              "      <td>...</td>\n",
              "      <td>...</td>\n",
              "      <td>...</td>\n",
              "      <td>...</td>\n",
              "      <td>...</td>\n",
              "      <td>...</td>\n",
              "      <td>...</td>\n",
              "      <td>...</td>\n",
              "      <td>...</td>\n",
              "      <td>...</td>\n",
              "    </tr>\n",
              "    <tr>\n",
              "      <td>286495</td>\n",
              "      <td>300011</td>\n",
              "      <td>500</td>\n",
              "      <td>Home</td>\n",
              "      <td>0</td>\n",
              "      <td>1</td>\n",
              "      <td>41</td>\n",
              "      <td>PA</td>\n",
              "      <td>Mozilla/5.0 (compatible; MSIE 9.0; Windows NT ...</td>\n",
              "      <td>House</td>\n",
              "      <td>Emilia</td>\n",
              "      <td>...</td>\n",
              "      <td>0</td>\n",
              "      <td>0</td>\n",
              "      <td>1</td>\n",
              "      <td>1</td>\n",
              "      <td>0</td>\n",
              "      <td>0</td>\n",
              "      <td>0</td>\n",
              "      <td>1</td>\n",
              "      <td>0</td>\n",
              "      <td>1</td>\n",
              "    </tr>\n",
              "    <tr>\n",
              "      <td>286496</td>\n",
              "      <td>300011</td>\n",
              "      <td>500</td>\n",
              "      <td>Login</td>\n",
              "      <td>1</td>\n",
              "      <td>1</td>\n",
              "      <td>42</td>\n",
              "      <td>PA</td>\n",
              "      <td>Mozilla/5.0 (compatible; MSIE 9.0; Windows NT ...</td>\n",
              "      <td>House</td>\n",
              "      <td>Emilia</td>\n",
              "      <td>...</td>\n",
              "      <td>0</td>\n",
              "      <td>0</td>\n",
              "      <td>1</td>\n",
              "      <td>0</td>\n",
              "      <td>1</td>\n",
              "      <td>0</td>\n",
              "      <td>0</td>\n",
              "      <td>1</td>\n",
              "      <td>0</td>\n",
              "      <td>1</td>\n",
              "    </tr>\n",
              "    <tr>\n",
              "      <td>286497</td>\n",
              "      <td>300011</td>\n",
              "      <td>500</td>\n",
              "      <td>Home</td>\n",
              "      <td>0</td>\n",
              "      <td>1</td>\n",
              "      <td>43</td>\n",
              "      <td>PA</td>\n",
              "      <td>Mozilla/5.0 (compatible; MSIE 9.0; Windows NT ...</td>\n",
              "      <td>House</td>\n",
              "      <td>Emilia</td>\n",
              "      <td>...</td>\n",
              "      <td>0</td>\n",
              "      <td>1</td>\n",
              "      <td>0</td>\n",
              "      <td>1</td>\n",
              "      <td>0</td>\n",
              "      <td>0</td>\n",
              "      <td>0</td>\n",
              "      <td>1</td>\n",
              "      <td>0</td>\n",
              "      <td>1</td>\n",
              "    </tr>\n",
              "    <tr>\n",
              "      <td>286498</td>\n",
              "      <td>300011</td>\n",
              "      <td>500</td>\n",
              "      <td>About</td>\n",
              "      <td>0</td>\n",
              "      <td>1</td>\n",
              "      <td>44</td>\n",
              "      <td>PA</td>\n",
              "      <td>Mozilla/5.0 (compatible; MSIE 9.0; Windows NT ...</td>\n",
              "      <td>House</td>\n",
              "      <td>Emilia</td>\n",
              "      <td>...</td>\n",
              "      <td>0</td>\n",
              "      <td>1</td>\n",
              "      <td>0</td>\n",
              "      <td>1</td>\n",
              "      <td>0</td>\n",
              "      <td>0</td>\n",
              "      <td>0</td>\n",
              "      <td>1</td>\n",
              "      <td>0</td>\n",
              "      <td>1</td>\n",
              "    </tr>\n",
              "    <tr>\n",
              "      <td>286499</td>\n",
              "      <td>300011</td>\n",
              "      <td>500</td>\n",
              "      <td>NextSong</td>\n",
              "      <td>1</td>\n",
              "      <td>1</td>\n",
              "      <td>45</td>\n",
              "      <td>PA</td>\n",
              "      <td>Mozilla/5.0 (compatible; MSIE 9.0; Windows NT ...</td>\n",
              "      <td>House</td>\n",
              "      <td>Emilia</td>\n",
              "      <td>...</td>\n",
              "      <td>0</td>\n",
              "      <td>1</td>\n",
              "      <td>0</td>\n",
              "      <td>1</td>\n",
              "      <td>0</td>\n",
              "      <td>0</td>\n",
              "      <td>0</td>\n",
              "      <td>0</td>\n",
              "      <td>1</td>\n",
              "      <td>1</td>\n",
              "    </tr>\n",
              "  </tbody>\n",
              "</table>\n",
              "<p>286500 rows × 28 columns</p>\n",
              "</div>"
            ],
            "text/plain": [
              "        userId  sessionId      page  method  level  itemInSession location  \\\n",
              "0           30         29  NextSong       1      1             50       CA   \n",
              "1            9          8  NextSong       1      0             79       NH   \n",
              "2           30         29  NextSong       1      1             51       CA   \n",
              "3            9          8  NextSong       1      0             80       NH   \n",
              "4           30         29  NextSong       1      1             52       CA   \n",
              "...        ...        ...       ...     ...    ...            ...      ...   \n",
              "286495  300011        500      Home       0      1             41       PA   \n",
              "286496  300011        500     Login       1      1             42       PA   \n",
              "286497  300011        500      Home       0      1             43       PA   \n",
              "286498  300011        500     About       0      1             44       PA   \n",
              "286499  300011        500  NextSong       1      1             45       PA   \n",
              "\n",
              "                                                userAgent lastName firstName  \\\n",
              "0       Mozilla/5.0 (Windows NT 6.1; WOW64; rv:31.0) G...  Freeman     Colin   \n",
              "1       \"Mozilla/5.0 (Windows NT 6.1; WOW64) AppleWebK...     Long     Micah   \n",
              "2       Mozilla/5.0 (Windows NT 6.1; WOW64; rv:31.0) G...  Freeman     Colin   \n",
              "3       \"Mozilla/5.0 (Windows NT 6.1; WOW64) AppleWebK...     Long     Micah   \n",
              "4       Mozilla/5.0 (Windows NT 6.1; WOW64; rv:31.0) G...  Freeman     Colin   \n",
              "...                                                   ...      ...       ...   \n",
              "286495  Mozilla/5.0 (compatible; MSIE 9.0; Windows NT ...    House    Emilia   \n",
              "286496  Mozilla/5.0 (compatible; MSIE 9.0; Windows NT ...    House    Emilia   \n",
              "286497  Mozilla/5.0 (compatible; MSIE 9.0; Windows NT ...    House    Emilia   \n",
              "286498  Mozilla/5.0 (compatible; MSIE 9.0; Windows NT ...    House    Emilia   \n",
              "286499  Mozilla/5.0 (compatible; MSIE 9.0; Windows NT ...    House    Emilia   \n",
              "\n",
              "        ...  auth_Guest auth_Logged In auth_Logged Out  status_200  \\\n",
              "0       ...           0              1               0           1   \n",
              "1       ...           0              1               0           1   \n",
              "2       ...           0              1               0           1   \n",
              "3       ...           0              1               0           1   \n",
              "4       ...           0              1               0           1   \n",
              "...     ...         ...            ...             ...         ...   \n",
              "286495  ...           0              0               1           1   \n",
              "286496  ...           0              0               1           0   \n",
              "286497  ...           0              1               0           1   \n",
              "286498  ...           0              1               0           1   \n",
              "286499  ...           0              1               0           1   \n",
              "\n",
              "        status_307  status_404  Month_10  Month_11  Month_12  Year_2018  \n",
              "0                0           0         1         0         0          1  \n",
              "1                0           0         1         0         0          1  \n",
              "2                0           0         1         0         0          1  \n",
              "3                0           0         1         0         0          1  \n",
              "4                0           0         1         0         0          1  \n",
              "...            ...         ...       ...       ...       ...        ...  \n",
              "286495           0           0         0         1         0          1  \n",
              "286496           1           0         0         1         0          1  \n",
              "286497           0           0         0         1         0          1  \n",
              "286498           0           0         0         1         0          1  \n",
              "286499           0           0         0         0         1          1  \n",
              "\n",
              "[286500 rows x 28 columns]"
            ]
          },
          "metadata": {
            "tags": []
          },
          "execution_count": 22
        }
      ]
    },
    {
      "cell_type": "code",
      "metadata": {
        "id": "qal060W1iOLT"
      },
      "source": [
        "#Scaling Numeric columns\n",
        "from sklearn.preprocessing import StandardScaler\n",
        "ss_scaler = StandardScaler()\n",
        "ss = ss_scaler.fit_transform(df[num_cols])\n",
        "ss = pd.DataFrame(ss,columns=num_cols)"
      ],
      "execution_count": null,
      "outputs": []
    },
    {
      "cell_type": "code",
      "metadata": {
        "id": "2xs_0qDZiOLU",
        "outputId": "54bedfdd-d626-4bfc-84e7-519db3f857db"
      },
      "source": [
        "ss"
      ],
      "execution_count": null,
      "outputs": [
        {
          "output_type": "execute_result",
          "data": {
            "text/html": [
              "<div>\n",
              "<style scoped>\n",
              "    .dataframe tbody tr th:only-of-type {\n",
              "        vertical-align: middle;\n",
              "    }\n",
              "\n",
              "    .dataframe tbody tr th {\n",
              "        vertical-align: top;\n",
              "    }\n",
              "\n",
              "    .dataframe thead th {\n",
              "        text-align: right;\n",
              "    }\n",
              "</style>\n",
              "<table border=\"1\" class=\"dataframe\">\n",
              "  <thead>\n",
              "    <tr style=\"text-align: right;\">\n",
              "      <th></th>\n",
              "      <th>itemInSession</th>\n",
              "      <th>length</th>\n",
              "    </tr>\n",
              "  </thead>\n",
              "  <tbody>\n",
              "    <tr>\n",
              "      <td>0</td>\n",
              "      <td>-0.496383</td>\n",
              "      <td>0.284522</td>\n",
              "    </tr>\n",
              "    <tr>\n",
              "      <td>1</td>\n",
              "      <td>-0.272906</td>\n",
              "      <td>-0.133385</td>\n",
              "    </tr>\n",
              "    <tr>\n",
              "      <td>2</td>\n",
              "      <td>-0.488677</td>\n",
              "      <td>0.333887</td>\n",
              "    </tr>\n",
              "    <tr>\n",
              "      <td>3</td>\n",
              "      <td>-0.265200</td>\n",
              "      <td>0.132770</td>\n",
              "    </tr>\n",
              "    <tr>\n",
              "      <td>4</td>\n",
              "      <td>-0.480971</td>\n",
              "      <td>-0.258234</td>\n",
              "    </tr>\n",
              "    <tr>\n",
              "      <td>...</td>\n",
              "      <td>...</td>\n",
              "      <td>...</td>\n",
              "    </tr>\n",
              "    <tr>\n",
              "      <td>286495</td>\n",
              "      <td>-0.565739</td>\n",
              "      <td>0.092285</td>\n",
              "    </tr>\n",
              "    <tr>\n",
              "      <td>286496</td>\n",
              "      <td>-0.558032</td>\n",
              "      <td>0.092285</td>\n",
              "    </tr>\n",
              "    <tr>\n",
              "      <td>286497</td>\n",
              "      <td>-0.550326</td>\n",
              "      <td>0.092285</td>\n",
              "    </tr>\n",
              "    <tr>\n",
              "      <td>286498</td>\n",
              "      <td>-0.542620</td>\n",
              "      <td>0.092285</td>\n",
              "    </tr>\n",
              "    <tr>\n",
              "      <td>286499</td>\n",
              "      <td>-0.534914</td>\n",
              "      <td>-0.785319</td>\n",
              "    </tr>\n",
              "  </tbody>\n",
              "</table>\n",
              "<p>286500 rows × 2 columns</p>\n",
              "</div>"
            ],
            "text/plain": [
              "        itemInSession    length\n",
              "0           -0.496383  0.284522\n",
              "1           -0.272906 -0.133385\n",
              "2           -0.488677  0.333887\n",
              "3           -0.265200  0.132770\n",
              "4           -0.480971 -0.258234\n",
              "...               ...       ...\n",
              "286495      -0.565739  0.092285\n",
              "286496      -0.558032  0.092285\n",
              "286497      -0.550326  0.092285\n",
              "286498      -0.542620  0.092285\n",
              "286499      -0.534914 -0.785319\n",
              "\n",
              "[286500 rows x 2 columns]"
            ]
          },
          "metadata": {
            "tags": []
          },
          "execution_count": 24
        }
      ]
    },
    {
      "cell_type": "code",
      "metadata": {
        "id": "IkMiQVu1iOLV"
      },
      "source": [
        "#merging scaled data to the original data\n",
        "df = df.drop(columns = num_cols,axis = 1)\n",
        "df = df.merge(ss,left_index=True,right_index=True,how = \"left\")"
      ],
      "execution_count": null,
      "outputs": []
    },
    {
      "cell_type": "code",
      "metadata": {
        "id": "S36oGXTxiOLW",
        "outputId": "583548e4-b1cf-451d-fa6a-24ecdeca61f2"
      },
      "source": [
        "#summary\n",
        "df.describe()"
      ],
      "execution_count": null,
      "outputs": [
        {
          "output_type": "execute_result",
          "data": {
            "text/html": [
              "<div>\n",
              "<style scoped>\n",
              "    .dataframe tbody tr th:only-of-type {\n",
              "        vertical-align: middle;\n",
              "    }\n",
              "\n",
              "    .dataframe tbody tr th {\n",
              "        vertical-align: top;\n",
              "    }\n",
              "\n",
              "    .dataframe thead th {\n",
              "        text-align: right;\n",
              "    }\n",
              "</style>\n",
              "<table border=\"1\" class=\"dataframe\">\n",
              "  <thead>\n",
              "    <tr style=\"text-align: right;\">\n",
              "      <th></th>\n",
              "      <th>userId</th>\n",
              "      <th>sessionId</th>\n",
              "      <th>method</th>\n",
              "      <th>level</th>\n",
              "      <th>gender</th>\n",
              "      <th>Hour</th>\n",
              "      <th>Day</th>\n",
              "      <th>churn</th>\n",
              "      <th>auth_Cancelled</th>\n",
              "      <th>auth_Guest</th>\n",
              "      <th>...</th>\n",
              "      <th>auth_Logged Out</th>\n",
              "      <th>status_200</th>\n",
              "      <th>status_307</th>\n",
              "      <th>status_404</th>\n",
              "      <th>Month_10</th>\n",
              "      <th>Month_11</th>\n",
              "      <th>Month_12</th>\n",
              "      <th>Year_2018</th>\n",
              "      <th>itemInSession</th>\n",
              "      <th>length</th>\n",
              "    </tr>\n",
              "  </thead>\n",
              "  <tbody>\n",
              "    <tr>\n",
              "      <td>count</td>\n",
              "      <td>286500.000000</td>\n",
              "      <td>286500.000000</td>\n",
              "      <td>286500.000000</td>\n",
              "      <td>286500.000000</td>\n",
              "      <td>286500.000000</td>\n",
              "      <td>286500.000000</td>\n",
              "      <td>286500.000000</td>\n",
              "      <td>286500.000000</td>\n",
              "      <td>286500.000000</td>\n",
              "      <td>286500.000000</td>\n",
              "      <td>...</td>\n",
              "      <td>286500.000000</td>\n",
              "      <td>286500.000000</td>\n",
              "      <td>286500.000000</td>\n",
              "      <td>286500.000000</td>\n",
              "      <td>286500.000000</td>\n",
              "      <td>286500.000000</td>\n",
              "      <td>286500.000000</td>\n",
              "      <td>286500.0</td>\n",
              "      <td>2.865000e+05</td>\n",
              "      <td>2.865000e+05</td>\n",
              "    </tr>\n",
              "    <tr>\n",
              "      <td>mean</td>\n",
              "      <td>59602.460373</td>\n",
              "      <td>1041.526555</td>\n",
              "      <td>0.911218</td>\n",
              "      <td>0.796377</td>\n",
              "      <td>0.444485</td>\n",
              "      <td>12.204834</td>\n",
              "      <td>15.788499</td>\n",
              "      <td>0.062363</td>\n",
              "      <td>0.000182</td>\n",
              "      <td>0.000339</td>\n",
              "      <td>...</td>\n",
              "      <td>0.028792</td>\n",
              "      <td>0.906848</td>\n",
              "      <td>0.092251</td>\n",
              "      <td>0.000901</td>\n",
              "      <td>0.521585</td>\n",
              "      <td>0.478401</td>\n",
              "      <td>0.000014</td>\n",
              "      <td>1.0</td>\n",
              "      <td>-6.818399e-15</td>\n",
              "      <td>-4.855123e-16</td>\n",
              "    </tr>\n",
              "    <tr>\n",
              "      <td>std</td>\n",
              "      <td>108941.766997</td>\n",
              "      <td>726.776263</td>\n",
              "      <td>0.284429</td>\n",
              "      <td>0.402693</td>\n",
              "      <td>0.496909</td>\n",
              "      <td>6.864561</td>\n",
              "      <td>8.926683</td>\n",
              "      <td>0.241814</td>\n",
              "      <td>0.013471</td>\n",
              "      <td>0.018397</td>\n",
              "      <td>...</td>\n",
              "      <td>0.167223</td>\n",
              "      <td>0.290646</td>\n",
              "      <td>0.289381</td>\n",
              "      <td>0.029995</td>\n",
              "      <td>0.499535</td>\n",
              "      <td>0.499534</td>\n",
              "      <td>0.003737</td>\n",
              "      <td>0.0</td>\n",
              "      <td>1.000002e+00</td>\n",
              "      <td>1.000002e+00</td>\n",
              "    </tr>\n",
              "    <tr>\n",
              "      <td>min</td>\n",
              "      <td>2.000000</td>\n",
              "      <td>1.000000</td>\n",
              "      <td>0.000000</td>\n",
              "      <td>0.000000</td>\n",
              "      <td>0.000000</td>\n",
              "      <td>0.000000</td>\n",
              "      <td>1.000000</td>\n",
              "      <td>0.000000</td>\n",
              "      <td>0.000000</td>\n",
              "      <td>0.000000</td>\n",
              "      <td>...</td>\n",
              "      <td>0.000000</td>\n",
              "      <td>0.000000</td>\n",
              "      <td>0.000000</td>\n",
              "      <td>0.000000</td>\n",
              "      <td>0.000000</td>\n",
              "      <td>0.000000</td>\n",
              "      <td>0.000000</td>\n",
              "      <td>1.0</td>\n",
              "      <td>-8.816893e-01</td>\n",
              "      <td>-2.486199e+00</td>\n",
              "    </tr>\n",
              "    <tr>\n",
              "      <td>25%</td>\n",
              "      <td>51.000000</td>\n",
              "      <td>336.000000</td>\n",
              "      <td>1.000000</td>\n",
              "      <td>1.000000</td>\n",
              "      <td>0.000000</td>\n",
              "      <td>6.000000</td>\n",
              "      <td>8.000000</td>\n",
              "      <td>0.000000</td>\n",
              "      <td>0.000000</td>\n",
              "      <td>0.000000</td>\n",
              "      <td>...</td>\n",
              "      <td>0.000000</td>\n",
              "      <td>1.000000</td>\n",
              "      <td>0.000000</td>\n",
              "      <td>0.000000</td>\n",
              "      <td>0.000000</td>\n",
              "      <td>0.000000</td>\n",
              "      <td>0.000000</td>\n",
              "      <td>1.0</td>\n",
              "      <td>-6.736242e-01</td>\n",
              "      <td>-4.948739e-01</td>\n",
              "    </tr>\n",
              "    <tr>\n",
              "      <td>50%</td>\n",
              "      <td>98.000000</td>\n",
              "      <td>1013.000000</td>\n",
              "      <td>1.000000</td>\n",
              "      <td>1.000000</td>\n",
              "      <td>0.000000</td>\n",
              "      <td>13.000000</td>\n",
              "      <td>16.000000</td>\n",
              "      <td>0.000000</td>\n",
              "      <td>0.000000</td>\n",
              "      <td>0.000000</td>\n",
              "      <td>...</td>\n",
              "      <td>0.000000</td>\n",
              "      <td>1.000000</td>\n",
              "      <td>0.000000</td>\n",
              "      <td>0.000000</td>\n",
              "      <td>1.000000</td>\n",
              "      <td>0.000000</td>\n",
              "      <td>0.000000</td>\n",
              "      <td>1.0</td>\n",
              "      <td>-3.422611e-01</td>\n",
              "      <td>-1.490562e-01</td>\n",
              "    </tr>\n",
              "    <tr>\n",
              "      <td>75%</td>\n",
              "      <td>100004.000000</td>\n",
              "      <td>1675.000000</td>\n",
              "      <td>1.000000</td>\n",
              "      <td>1.000000</td>\n",
              "      <td>1.000000</td>\n",
              "      <td>18.000000</td>\n",
              "      <td>23.000000</td>\n",
              "      <td>0.000000</td>\n",
              "      <td>0.000000</td>\n",
              "      <td>0.000000</td>\n",
              "      <td>...</td>\n",
              "      <td>0.000000</td>\n",
              "      <td>1.000000</td>\n",
              "      <td>0.000000</td>\n",
              "      <td>0.000000</td>\n",
              "      <td>1.000000</td>\n",
              "      <td>1.000000</td>\n",
              "      <td>0.000000</td>\n",
              "      <td>1.0</td>\n",
              "      <td>3.223915e-01</td>\n",
              "      <td>2.772085e-01</td>\n",
              "    </tr>\n",
              "    <tr>\n",
              "      <td>max</td>\n",
              "      <td>300025.000000</td>\n",
              "      <td>2474.000000</td>\n",
              "      <td>1.000000</td>\n",
              "      <td>1.000000</td>\n",
              "      <td>1.000000</td>\n",
              "      <td>23.000000</td>\n",
              "      <td>31.000000</td>\n",
              "      <td>1.000000</td>\n",
              "      <td>1.000000</td>\n",
              "      <td>1.000000</td>\n",
              "      <td>...</td>\n",
              "      <td>1.000000</td>\n",
              "      <td>1.000000</td>\n",
              "      <td>1.000000</td>\n",
              "      <td>1.000000</td>\n",
              "      <td>1.000000</td>\n",
              "      <td>1.000000</td>\n",
              "      <td>1.000000</td>\n",
              "      <td>1.0</td>\n",
              "      <td>9.298092e+00</td>\n",
              "      <td>2.774882e+01</td>\n",
              "    </tr>\n",
              "  </tbody>\n",
              "</table>\n",
              "<p>8 rows × 21 columns</p>\n",
              "</div>"
            ],
            "text/plain": [
              "              userId      sessionId         method          level  \\\n",
              "count  286500.000000  286500.000000  286500.000000  286500.000000   \n",
              "mean    59602.460373    1041.526555       0.911218       0.796377   \n",
              "std    108941.766997     726.776263       0.284429       0.402693   \n",
              "min         2.000000       1.000000       0.000000       0.000000   \n",
              "25%        51.000000     336.000000       1.000000       1.000000   \n",
              "50%        98.000000    1013.000000       1.000000       1.000000   \n",
              "75%    100004.000000    1675.000000       1.000000       1.000000   \n",
              "max    300025.000000    2474.000000       1.000000       1.000000   \n",
              "\n",
              "              gender           Hour            Day          churn  \\\n",
              "count  286500.000000  286500.000000  286500.000000  286500.000000   \n",
              "mean        0.444485      12.204834      15.788499       0.062363   \n",
              "std         0.496909       6.864561       8.926683       0.241814   \n",
              "min         0.000000       0.000000       1.000000       0.000000   \n",
              "25%         0.000000       6.000000       8.000000       0.000000   \n",
              "50%         0.000000      13.000000      16.000000       0.000000   \n",
              "75%         1.000000      18.000000      23.000000       0.000000   \n",
              "max         1.000000      23.000000      31.000000       1.000000   \n",
              "\n",
              "       auth_Cancelled     auth_Guest  ...  auth_Logged Out     status_200  \\\n",
              "count   286500.000000  286500.000000  ...    286500.000000  286500.000000   \n",
              "mean         0.000182       0.000339  ...         0.028792       0.906848   \n",
              "std          0.013471       0.018397  ...         0.167223       0.290646   \n",
              "min          0.000000       0.000000  ...         0.000000       0.000000   \n",
              "25%          0.000000       0.000000  ...         0.000000       1.000000   \n",
              "50%          0.000000       0.000000  ...         0.000000       1.000000   \n",
              "75%          0.000000       0.000000  ...         0.000000       1.000000   \n",
              "max          1.000000       1.000000  ...         1.000000       1.000000   \n",
              "\n",
              "          status_307     status_404       Month_10       Month_11  \\\n",
              "count  286500.000000  286500.000000  286500.000000  286500.000000   \n",
              "mean        0.092251       0.000901       0.521585       0.478401   \n",
              "std         0.289381       0.029995       0.499535       0.499534   \n",
              "min         0.000000       0.000000       0.000000       0.000000   \n",
              "25%         0.000000       0.000000       0.000000       0.000000   \n",
              "50%         0.000000       0.000000       1.000000       0.000000   \n",
              "75%         0.000000       0.000000       1.000000       1.000000   \n",
              "max         1.000000       1.000000       1.000000       1.000000   \n",
              "\n",
              "            Month_12  Year_2018  itemInSession        length  \n",
              "count  286500.000000   286500.0   2.865000e+05  2.865000e+05  \n",
              "mean        0.000014        1.0  -6.818399e-15 -4.855123e-16  \n",
              "std         0.003737        0.0   1.000002e+00  1.000002e+00  \n",
              "min         0.000000        1.0  -8.816893e-01 -2.486199e+00  \n",
              "25%         0.000000        1.0  -6.736242e-01 -4.948739e-01  \n",
              "50%         0.000000        1.0  -3.422611e-01 -1.490562e-01  \n",
              "75%         0.000000        1.0   3.223915e-01  2.772085e-01  \n",
              "max         1.000000        1.0   9.298092e+00  2.774882e+01  \n",
              "\n",
              "[8 rows x 21 columns]"
            ]
          },
          "metadata": {
            "tags": []
          },
          "execution_count": 26
        }
      ]
    },
    {
      "cell_type": "code",
      "metadata": {
        "id": "a-tnsE6-iOLX",
        "outputId": "e1abdbe2-69f0-4b6c-e0df-6473c0ff5aa9"
      },
      "source": [
        "#checking for nulls\n",
        "df.isnull().sum()"
      ],
      "execution_count": null,
      "outputs": [
        {
          "output_type": "execute_result",
          "data": {
            "text/plain": [
              "userId             0\n",
              "sessionId          0\n",
              "page               0\n",
              "method             0\n",
              "level              0\n",
              "location           0\n",
              "userAgent          0\n",
              "lastName           0\n",
              "firstName          0\n",
              "gender             0\n",
              "artist             0\n",
              "song               0\n",
              "Hour               0\n",
              "Day                0\n",
              "churn              0\n",
              "auth_Cancelled     0\n",
              "auth_Guest         0\n",
              "auth_Logged In     0\n",
              "auth_Logged Out    0\n",
              "status_200         0\n",
              "status_307         0\n",
              "status_404         0\n",
              "Month_10           0\n",
              "Month_11           0\n",
              "Month_12           0\n",
              "Year_2018          0\n",
              "itemInSession      0\n",
              "length             0\n",
              "dtype: int64"
            ]
          },
          "metadata": {
            "tags": []
          },
          "execution_count": 27
        }
      ]
    },
    {
      "cell_type": "code",
      "metadata": {
        "id": "LpYdsPIuiOLZ",
        "outputId": "8191e285-8202-4918-8358-07469737960d"
      },
      "source": [
        "#correlation matrix heatmap\n",
        "plt.figure(figsize=(19, 15))\n",
        "corrMatrix = df.corr()\n",
        "sn.heatmap(corrMatrix, annot=True)\n",
        "plt.show()"
      ],
      "execution_count": null,
      "outputs": [
        {
          "output_type": "display_data",
          "data": {
            "image/png": "[encoded data removed]",
            "text/plain": [
              "<Figure size 1368x1080 with 2 Axes>"
            ]
          },
          "metadata": {
            "tags": [],
            "needs_background": "light"
          }
        }
      ]
    },
    {
      "cell_type": "markdown",
      "metadata": {
        "id": "TKSVUTDkiOLa"
      },
      "source": [
        "## Model Building"
      ]
    },
    {
      "cell_type": "code",
      "metadata": {
        "id": "4oUdK6d0iOLb"
      },
      "source": [
        "from sklearn.model_selection import train_test_split\n",
        "from sklearn.linear_model import LogisticRegression\n",
        "from sklearn.ensemble import RandomForestClassifier\n",
        "from sklearn.tree import DecisionTreeClassifier\n",
        "from sklearn.metrics import confusion_matrix,accuracy_score,classification_report\n",
        "from sklearn.metrics import f1_score\n",
        "from sklearn.metrics import precision_score,recall_score"
      ],
      "execution_count": null,
      "outputs": []
    },
    {
      "cell_type": "code",
      "metadata": {
        "id": "nCWQEfIkiOLc"
      },
      "source": [
        "#dropping target variable and unnecessary columns and for model building\n",
        "#separating features and target variable\n",
        "X = df.drop(['churn','page','location','userAgent','lastName','firstName','artist','song'], axis=1)"
      ],
      "execution_count": null,
      "outputs": []
    },
    {
      "cell_type": "code",
      "metadata": {
        "id": "o1ezgkEQiOLd",
        "outputId": "6985bbec-605b-4065-a9e3-fdcd3b791503"
      },
      "source": [
        "#shape (rows/columns)\n",
        "X.shape"
      ],
      "execution_count": null,
      "outputs": [
        {
          "output_type": "execute_result",
          "data": {
            "text/plain": [
              "(286500, 20)"
            ]
          },
          "metadata": {
            "tags": []
          },
          "execution_count": 31
        }
      ]
    },
    {
      "cell_type": "code",
      "metadata": {
        "id": "K5nbpvB3iOLe"
      },
      "source": [
        "#seperating target variable\n",
        "y = df['churn']"
      ],
      "execution_count": null,
      "outputs": []
    },
    {
      "cell_type": "code",
      "metadata": {
        "id": "J9vWRmsViOLf",
        "outputId": "9be60c4c-2d97-4731-ea38-532326905cd4"
      },
      "source": [
        "y.head()"
      ],
      "execution_count": null,
      "outputs": [
        {
          "output_type": "execute_result",
          "data": {
            "text/plain": [
              "0    0\n",
              "1    0\n",
              "2    0\n",
              "3    0\n",
              "4    0\n",
              "Name: churn, dtype: int64"
            ]
          },
          "metadata": {
            "tags": []
          },
          "execution_count": 33
        }
      ]
    },
    {
      "cell_type": "code",
      "metadata": {
        "id": "3N7p4rFyiOLg"
      },
      "source": [
        "#splitting training and testing data\n",
        "X_train,X_test,y_train,y_test = train_test_split(X,y,test_size = 0.2,random_state = 1)"
      ],
      "execution_count": null,
      "outputs": []
    },
    {
      "cell_type": "markdown",
      "metadata": {
        "id": "oC7CYfnJiOLh"
      },
      "source": [
        "## Logistic regression"
      ]
    },
    {
      "cell_type": "code",
      "metadata": {
        "id": "usFHeuI1iOLh",
        "outputId": "6416f67f-6b80-4505-f5f0-55c7d95d2189"
      },
      "source": [
        "lr = LogisticRegression(random_state = 0)\n",
        "lr.fit(X_train, y_train)"
      ],
      "execution_count": null,
      "outputs": [
        {
          "output_type": "execute_result",
          "data": {
            "text/plain": [
              "LogisticRegression(random_state=0)"
            ]
          },
          "metadata": {
            "tags": []
          },
          "execution_count": 35
        }
      ]
    },
    {
      "cell_type": "code",
      "metadata": {
        "id": "jeWEqrJbiOLi"
      },
      "source": [
        "y_pred = lr.predict(X_test)"
      ],
      "execution_count": null,
      "outputs": []
    },
    {
      "cell_type": "code",
      "metadata": {
        "id": "R6Lg8xDliOLj",
        "outputId": "c00e7b1e-e83f-457b-867f-1557ef722a0a"
      },
      "source": [
        "print(classification_report(y_test,y_pred))"
      ],
      "execution_count": null,
      "outputs": [
        {
          "output_type": "stream",
          "text": [
            "              precision    recall  f1-score   support\n",
            "\n",
            "           0       0.95      0.98      0.97     53716\n",
            "           1       0.53      0.29      0.37      3584\n",
            "\n",
            "    accuracy                           0.94     57300\n",
            "   macro avg       0.74      0.63      0.67     57300\n",
            "weighted avg       0.93      0.94      0.93     57300\n",
            "\n"
          ],
          "name": "stdout"
        }
      ]
    },
    {
      "cell_type": "markdown",
      "metadata": {
        "id": "Luc6p3bhiOLl"
      },
      "source": [
        "## Decision tree classifier"
      ]
    },
    {
      "cell_type": "code",
      "metadata": {
        "id": "Oq3znm8JiOLm",
        "outputId": "9bfa7a4b-e3c5-469f-cbb9-34281f647102"
      },
      "source": [
        "tree = DecisionTreeClassifier(random_state = 2)\n",
        "tree.fit(X_train, y_train)"
      ],
      "execution_count": null,
      "outputs": [
        {
          "output_type": "execute_result",
          "data": {
            "text/plain": [
              "DecisionTreeClassifier(random_state=2)"
            ]
          },
          "metadata": {
            "tags": []
          },
          "execution_count": 38
        }
      ]
    },
    {
      "cell_type": "code",
      "metadata": {
        "id": "PGgYADUViOLn"
      },
      "source": [
        "y_pred_tree = tree.predict(X_test)"
      ],
      "execution_count": null,
      "outputs": []
    },
    {
      "cell_type": "code",
      "metadata": {
        "id": "V7a2YFiQiOLo",
        "outputId": "f4214acc-b318-4200-f710-9622b29295c7"
      },
      "source": [
        "\n",
        "print(classification_report(y_test,y_pred))"
      ],
      "execution_count": null,
      "outputs": [
        {
          "output_type": "stream",
          "text": [
            "              precision    recall  f1-score   support\n",
            "\n",
            "           0       0.95      0.98      0.97     53716\n",
            "           1       0.53      0.29      0.37      3584\n",
            "\n",
            "    accuracy                           0.94     57300\n",
            "   macro avg       0.74      0.63      0.67     57300\n",
            "weighted avg       0.93      0.94      0.93     57300\n",
            "\n"
          ],
          "name": "stdout"
        }
      ]
    },
    {
      "cell_type": "markdown",
      "metadata": {
        "id": "AHTp1ByTiOLp"
      },
      "source": [
        "## Random forest classifier"
      ]
    },
    {
      "cell_type": "code",
      "metadata": {
        "id": "me_HepgsiOLp",
        "outputId": "749b057c-1e31-481e-fa4a-6a500990ba9f"
      },
      "source": [
        "from sklearn.ensemble import RandomForestClassifier\n",
        "rf = RandomForestClassifier()\n",
        "rf.fit(X_train, y_train)"
      ],
      "execution_count": null,
      "outputs": [
        {
          "output_type": "execute_result",
          "data": {
            "text/plain": [
              "RandomForestClassifier()"
            ]
          },
          "metadata": {
            "tags": []
          },
          "execution_count": 41
        }
      ]
    },
    {
      "cell_type": "code",
      "metadata": {
        "id": "hAmUa4dHiOLq"
      },
      "source": [
        "y_pred = rf.predict(X_test)"
      ],
      "execution_count": null,
      "outputs": []
    },
    {
      "cell_type": "code",
      "metadata": {
        "id": "zyMyUjrjiOLr",
        "outputId": "20e16b7e-cc2b-4d3a-f8bb-6e1441b7a067"
      },
      "source": [
        "cm = confusion_matrix(y_test, y_pred)\n",
        "accuracy_score(y_test, y_pred)\n",
        "precision_score(y_test, y_pred)\n",
        "recall_score(y_test, y_pred)\n",
        "f1_score(y_test, y_pred)"
      ],
      "execution_count": null,
      "outputs": [
        {
          "output_type": "execute_result",
          "data": {
            "text/plain": [
              "0.7256949152542372"
            ]
          },
          "metadata": {
            "tags": []
          },
          "execution_count": 43
        }
      ]
    },
    {
      "cell_type": "code",
      "metadata": {
        "id": "KSriCDZ4iOLs",
        "outputId": "8102360b-883d-418a-8328-5ef27eee303c"
      },
      "source": [
        "print(classification_report(y_test,y_pred))"
      ],
      "execution_count": null,
      "outputs": [
        {
          "output_type": "stream",
          "text": [
            "              precision    recall  f1-score   support\n",
            "\n",
            "           0       0.98      0.98      0.98     53716\n",
            "           1       0.71      0.75      0.73      3584\n",
            "\n",
            "    accuracy                           0.96     57300\n",
            "   macro avg       0.84      0.86      0.85     57300\n",
            "weighted avg       0.97      0.96      0.97     57300\n",
            "\n"
          ],
          "name": "stdout"
        }
      ]
    },
    {
      "cell_type": "markdown",
      "metadata": {
        "id": "ecn7BT9_iOLt"
      },
      "source": [
        "## linear svc"
      ]
    },
    {
      "cell_type": "code",
      "metadata": {
        "id": "vcqDU8ekiOLu",
        "outputId": "53571a9e-756c-4d15-ef89-b6443e37bfb6"
      },
      "source": [
        "from sklearn.svm import LinearSVC\n",
        "svc = LinearSVC()\n",
        "svc.fit(X_train, y_train)"
      ],
      "execution_count": null,
      "outputs": [
        {
          "output_type": "execute_result",
          "data": {
            "text/plain": [
              "LinearSVC()"
            ]
          },
          "metadata": {
            "tags": []
          },
          "execution_count": 45
        }
      ]
    },
    {
      "cell_type": "code",
      "metadata": {
        "id": "V_p0JRyuiOLv"
      },
      "source": [
        "y_pred = svc.predict(X_test)"
      ],
      "execution_count": null,
      "outputs": []
    },
    {
      "cell_type": "code",
      "metadata": {
        "id": "drUQZ0PfiOLw",
        "outputId": "9faae16c-4c48-48fd-9a0b-5b7a38678525"
      },
      "source": [
        "print(classification_report(y_test,y_pred))"
      ],
      "execution_count": null,
      "outputs": [
        {
          "output_type": "stream",
          "text": [
            "              precision    recall  f1-score   support\n",
            "\n",
            "           0       0.95      0.75      0.84     53716\n",
            "           1       0.11      0.45      0.17      3584\n",
            "\n",
            "    accuracy                           0.73     57300\n",
            "   macro avg       0.53      0.60      0.50     57300\n",
            "weighted avg       0.90      0.73      0.80     57300\n",
            "\n"
          ],
          "name": "stdout"
        }
      ]
    },
    {
      "cell_type": "markdown",
      "metadata": {
        "id": "KR-n5VCYiOLy"
      },
      "source": [
        "## Naive Bayes"
      ]
    },
    {
      "cell_type": "code",
      "metadata": {
        "id": "H0PUj7jUiOLy",
        "outputId": "3317fda0-b70c-4ebb-fcd8-cf80ab64c88c"
      },
      "source": [
        "from sklearn.naive_bayes import GaussianNB\n",
        "nb = GaussianNB()\n",
        "nb.fit(X_train,y_train)"
      ],
      "execution_count": null,
      "outputs": [
        {
          "output_type": "execute_result",
          "data": {
            "text/plain": [
              "GaussianNB()"
            ]
          },
          "metadata": {
            "tags": []
          },
          "execution_count": 48
        }
      ]
    },
    {
      "cell_type": "code",
      "metadata": {
        "id": "qVGRAgOpiOLz"
      },
      "source": [
        "y_pred = nb.predict(X_test)"
      ],
      "execution_count": null,
      "outputs": []
    },
    {
      "cell_type": "code",
      "metadata": {
        "id": "JRZhVIRniOL0",
        "outputId": "49f5d14a-d106-4422-b2f8-207b90878165"
      },
      "source": [
        "print(classification_report(y_test,y_pred))"
      ],
      "execution_count": null,
      "outputs": [
        {
          "output_type": "stream",
          "text": [
            "              precision    recall  f1-score   support\n",
            "\n",
            "           0       0.94      1.00      0.97     53716\n",
            "           1       0.00      0.00      0.00      3584\n",
            "\n",
            "    accuracy                           0.94     57300\n",
            "   macro avg       0.47      0.50      0.48     57300\n",
            "weighted avg       0.88      0.94      0.91     57300\n",
            "\n"
          ],
          "name": "stdout"
        }
      ]
    },
    {
      "cell_type": "markdown",
      "metadata": {
        "id": "O6T8m5sSiOL1"
      },
      "source": [
        "Random forest classifier has the best accuracy wich is 96%."
      ]
    },
    {
      "cell_type": "code",
      "metadata": {
        "id": "ENVcIsPmiOL2"
      },
      "source": [
        ""
      ],
      "execution_count": null,
      "outputs": []
    }
  ]
}